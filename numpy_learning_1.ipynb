{
  "nbformat": 4,
  "nbformat_minor": 0,
  "metadata": {
    "colab": {
      "provenance": [],
      "authorship_tag": "ABX9TyMyRL7er7Y8jD4YMIKMX2rd",
      "include_colab_link": true
    },
    "kernelspec": {
      "name": "python3",
      "display_name": "Python 3"
    },
    "language_info": {
      "name": "python"
    }
  },
  "cells": [
    {
      "cell_type": "markdown",
      "metadata": {
        "id": "view-in-github",
        "colab_type": "text"
      },
      "source": [
        "<a href=\"https://colab.research.google.com/github/nachiket-15/Introduction_to_Data_Visualization/blob/main/numpy_learning_1.ipynb\" target=\"_parent\"><img src=\"https://colab.research.google.com/assets/colab-badge.svg\" alt=\"Open In Colab\"/></a>"
      ]
    },
    {
      "cell_type": "markdown",
      "source": [
        "# **Numpy Essential Training**"
      ],
      "metadata": {
        "id": "Kz-9IIOCWHxP"
      }
    },
    {
      "cell_type": "markdown",
      "source": [
        "**What is Numpy ?**\n",
        "\n",
        "*NumPy (Numerical Python) is a powerful library in python which is used extensively for numerical and mathematical calculations*\n",
        "\n",
        "**Applications**\n",
        "\n",
        "*1.Multidimensional Arrays: NumPy provides a numpy.ndarray object, which is a multi-dimensional array. These arrays can be used to represent matrices, tensors, or any other multi-dimensional data structures.*\n",
        "\n",
        "*2.Mathematical Operations: NumPy allows you to perform element-wise operations on arrays, making it easy to apply mathematical functions to entire datasets without the need for explicit loops.*\n",
        "\n",
        "*3.Linear Algebra: NumPy provides a set of functions for linear algebra operations, such as matrix multiplication, inversion, determinant calculation, and more.*\n",
        "\n",
        "*4.Broadcasting: NumPy supports broadcasting, which is a powerful mechanism that allows NumPy to work with arrays of different shapes and sizes during arithmetic operations.*\n",
        "\n",
        "*5.Data Analysis and Manipulation: NumPy is often used in combination with other libraries like Pandas for data analysis and manipulation. It provides a foundation for working with numerical data efficiently.*\n"
      ],
      "metadata": {
        "id": "0tFBmeJXWSi9"
      }
    },
    {
      "cell_type": "code",
      "source": [
        "import numpy as np"
      ],
      "metadata": {
        "id": "ijRod83eWQax"
      },
      "execution_count": 1,
      "outputs": []
    },
    {
      "cell_type": "code",
      "source": [
        "list=[1,2,3,4,5,6,7]\n",
        "arr=np.array(list)\n",
        "print(arr)\n",
        "\n",
        "arr=np.array([1,2,3,4,5,6,7])\n",
        "print(arr)"
      ],
      "metadata": {
        "colab": {
          "base_uri": "https://localhost:8080/"
        },
        "id": "V_B-EGpIKK5d",
        "outputId": "4d64a73a-f380-4f73-af3c-23c941713ccf"
      },
      "execution_count": 92,
      "outputs": [
        {
          "output_type": "stream",
          "name": "stdout",
          "text": [
            "[1 2 3 4 5 6 7]\n",
            "[1 2 3 4 5 6 7]\n"
          ]
        }
      ]
    },
    {
      "cell_type": "code",
      "source": [
        "#Third parameter is step/diff\n",
        "arr1=np.arange(1,10,2)\n",
        "print(arr1)"
      ],
      "metadata": {
        "colab": {
          "base_uri": "https://localhost:8080/"
        },
        "id": "boxOWQT6RUDi",
        "outputId": "f7e967b6-40f5-4b46-d9b2-8c8d01c05c13"
      },
      "execution_count": 3,
      "outputs": [
        {
          "output_type": "stream",
          "name": "stdout",
          "text": [
            "[1 3 5 7 9]\n"
          ]
        }
      ]
    },
    {
      "cell_type": "code",
      "source": [
        "#Third parameter - no of elements\n",
        "arr2=np.linspace(1,10,5)\n",
        "print(arr2)"
      ],
      "metadata": {
        "colab": {
          "base_uri": "https://localhost:8080/"
        },
        "id": "zhwTGzB-Rju-",
        "outputId": "32ec070c-dc82-4a5b-d917-3a8b55146e98"
      },
      "execution_count": 4,
      "outputs": [
        {
          "output_type": "stream",
          "name": "stdout",
          "text": [
            "[ 1.    3.25  5.5   7.75 10.  ]\n"
          ]
        }
      ]
    },
    {
      "cell_type": "code",
      "source": [
        "print(arr2.dtype)\n",
        "print(arr1.dtype)\n"
      ],
      "metadata": {
        "colab": {
          "base_uri": "https://localhost:8080/"
        },
        "id": "Lpd-x7LhFfSs",
        "outputId": "1c4a3dbb-7309-4d0d-bc27-40d0e6d471e2"
      },
      "execution_count": 5,
      "outputs": [
        {
          "output_type": "stream",
          "name": "stdout",
          "text": [
            "float64\n",
            "int64\n"
          ]
        }
      ]
    },
    {
      "cell_type": "code",
      "source": [
        "arr3=np.random.rand(10)\n",
        "print(arr3)"
      ],
      "metadata": {
        "colab": {
          "base_uri": "https://localhost:8080/"
        },
        "id": "Sp2WmHYnRgxy",
        "outputId": "129854d7-3a42-468a-fa6e-f93c0bfc208f"
      },
      "execution_count": 6,
      "outputs": [
        {
          "output_type": "stream",
          "name": "stdout",
          "text": [
            "[0.27748257 0.69997352 0.77447942 0.08348119 0.53177751 0.31437686\n",
            " 0.94560571 0.78738404 0.35676808 0.52322219]\n"
          ]
        }
      ]
    },
    {
      "cell_type": "code",
      "source": [
        "# NumPy function in Python that generates an array of random numbers in the half-open interval [0.0, 1.0).\n",
        "arr4=np.random.rand(4,4)\n",
        "print(arr4)"
      ],
      "metadata": {
        "colab": {
          "base_uri": "https://localhost:8080/"
        },
        "id": "FaseINrVSD-j",
        "outputId": "904ca36b-5e41-4ff7-84aa-64f0ea99e62e"
      },
      "execution_count": 7,
      "outputs": [
        {
          "output_type": "stream",
          "name": "stdout",
          "text": [
            "[[0.27449443 0.23707596 0.58134238 0.53187348]\n",
            " [0.86083986 0.27125655 0.5074541  0.58191775]\n",
            " [0.54811439 0.52842294 0.22424186 0.1208183 ]\n",
            " [0.66417214 0.82909625 0.42297186 0.33842444]]\n"
          ]
        }
      ]
    },
    {
      "cell_type": "code",
      "source": [
        "arr5=np.random.randint(1,100,25)\n",
        "print(arr5)"
      ],
      "metadata": {
        "colab": {
          "base_uri": "https://localhost:8080/"
        },
        "id": "dIC5877USJHT",
        "outputId": "0096fbfc-5171-4785-e906-53ac5738f19b"
      },
      "execution_count": 8,
      "outputs": [
        {
          "output_type": "stream",
          "name": "stdout",
          "text": [
            "[24 25 52 41 23 13 30 91 71 63 28 40 34 18  5 18 53 84 74 66 15 57 36 39\n",
            " 72]\n"
          ]
        }
      ]
    },
    {
      "cell_type": "code",
      "source": [
        "arr5"
      ],
      "metadata": {
        "colab": {
          "base_uri": "https://localhost:8080/"
        },
        "id": "jz7y8aTCF25S",
        "outputId": "d3ac4099-4831-437d-a7c7-b41e44be38f7"
      },
      "execution_count": 9,
      "outputs": [
        {
          "output_type": "execute_result",
          "data": {
            "text/plain": [
              "array([24, 25, 52, 41, 23, 13, 30, 91, 71, 63, 28, 40, 34, 18,  5, 18, 53,\n",
              "       84, 74, 66, 15, 57, 36, 39, 72])"
            ]
          },
          "metadata": {},
          "execution_count": 9
        }
      ]
    },
    {
      "cell_type": "code",
      "source": [
        "arr6=np.zeros(6)\n",
        "print(arr6)\n",
        "print(arr6.dtype)"
      ],
      "metadata": {
        "colab": {
          "base_uri": "https://localhost:8080/"
        },
        "id": "VILdGBqySv6Q",
        "outputId": "3600f33d-f269-4463-fb62-6aceeb4e9451"
      },
      "execution_count": 94,
      "outputs": [
        {
          "output_type": "stream",
          "name": "stdout",
          "text": [
            "[0. 0. 0. 0. 0. 0.]\n",
            "float64\n"
          ]
        }
      ]
    },
    {
      "cell_type": "code",
      "source": [
        "print(arr5.shape)#Provides size of each dimension of array\n",
        "print(arr5.ndim)#No of dimensions of numpy array\n",
        "print(arr4.shape)\n",
        "print(arr4.ndim)"
      ],
      "metadata": {
        "colab": {
          "base_uri": "https://localhost:8080/"
        },
        "id": "sV-4jbxgGArK",
        "outputId": "6f5be640-f545-4c43-e14f-32f7fffff97c"
      },
      "execution_count": 11,
      "outputs": [
        {
          "output_type": "stream",
          "name": "stdout",
          "text": [
            "(25,)\n",
            "1\n",
            "(4, 4)\n",
            "2\n"
          ]
        }
      ]
    },
    {
      "cell_type": "code",
      "source": [
        "# Creating a 1-dimensional array\n",
        "arr_1d = np.array([1, 2, 3])\n",
        "print(arr_1d.shape)  # Output: (3,)\n",
        "\n",
        "# Creating a 2-dimensional array (matrix)\n",
        "arr_2d = np.array([[1, 2, 3], [4, 5, 6]])\n",
        "print(arr_2d.shape)  # Output: (2, 3)\n",
        "\n",
        "# Creating a 3-dimensional array\n",
        "arr_3d = np.array([[[1, 2], [3, 4]], [[5, 6], [7, 8]]])\n",
        "print(arr_3d.shape)  # Output: (2, 2, 2)"
      ],
      "metadata": {
        "colab": {
          "base_uri": "https://localhost:8080/"
        },
        "id": "paWA1dzaj_BL",
        "outputId": "07d9a8dd-9f07-43bc-be0f-c70d29ff17b8"
      },
      "execution_count": 93,
      "outputs": [
        {
          "output_type": "stream",
          "name": "stdout",
          "text": [
            "(3,)\n",
            "(2, 3)\n",
            "(2, 2, 2)\n"
          ]
        }
      ]
    },
    {
      "cell_type": "code",
      "source": [
        "arr7=np.zeros((4,4),dtype=int)\n",
        "print(arr7)"
      ],
      "metadata": {
        "colab": {
          "base_uri": "https://localhost:8080/"
        },
        "id": "7dkXTw9uS_uA",
        "outputId": "9d39decf-30b5-4ecb-c39e-3ed3186cf031"
      },
      "execution_count": 12,
      "outputs": [
        {
          "output_type": "stream",
          "name": "stdout",
          "text": [
            "[[0 0 0 0]\n",
            " [0 0 0 0]\n",
            " [0 0 0 0]\n",
            " [0 0 0 0]]\n"
          ]
        }
      ]
    },
    {
      "cell_type": "code",
      "source": [
        "arr8=np.ones(5,dtype=int)\n",
        "print(arr8)"
      ],
      "metadata": {
        "colab": {
          "base_uri": "https://localhost:8080/"
        },
        "id": "LspN-LCyTDyI",
        "outputId": "8abf9676-ec14-48b0-f62d-9aac75c7e558"
      },
      "execution_count": 13,
      "outputs": [
        {
          "output_type": "stream",
          "name": "stdout",
          "text": [
            "[1 1 1 1 1]\n"
          ]
        }
      ]
    },
    {
      "cell_type": "code",
      "source": [
        "arr9=np.ones((5,5),dtype=int)\n",
        "print(arr9)"
      ],
      "metadata": {
        "colab": {
          "base_uri": "https://localhost:8080/"
        },
        "id": "RHKXyzXYT2Io",
        "outputId": "893dfc77-3d84-4384-8b05-7d41efae06a2"
      },
      "execution_count": 14,
      "outputs": [
        {
          "output_type": "stream",
          "name": "stdout",
          "text": [
            "[[1 1 1 1 1]\n",
            " [1 1 1 1 1]\n",
            " [1 1 1 1 1]\n",
            " [1 1 1 1 1]\n",
            " [1 1 1 1 1]]\n"
          ]
        }
      ]
    },
    {
      "cell_type": "code",
      "source": [
        "arr10=np.empty(6)\n",
        "print(arr10)\n",
        "print(arr10.dtype)\n",
        "\n",
        "\n",
        "arr10.fill(10)\n",
        "print(arr10)\n",
        "\n"
      ],
      "metadata": {
        "colab": {
          "base_uri": "https://localhost:8080/"
        },
        "id": "yA6iSx96T6EI",
        "outputId": "ecbb21e0-8e6c-4c27-cdd9-bf12472b303c"
      },
      "execution_count": 99,
      "outputs": [
        {
          "output_type": "stream",
          "name": "stdout",
          "text": [
            "[10. 10. 10. 10. 10. 10.]\n",
            "float64\n",
            "[10. 10. 10. 10. 10. 10.]\n"
          ]
        }
      ]
    },
    {
      "cell_type": "code",
      "source": [
        "arr11=np.full(7,10)\n",
        "print(arr11)"
      ],
      "metadata": {
        "colab": {
          "base_uri": "https://localhost:8080/"
        },
        "id": "zjiW_cfQUh62",
        "outputId": "69f3b66a-24e0-4d5d-9f89-f306ade2ed22"
      },
      "execution_count": 16,
      "outputs": [
        {
          "output_type": "stream",
          "name": "stdout",
          "text": [
            "[10 10 10 10 10 10 10]\n"
          ]
        }
      ]
    },
    {
      "cell_type": "code",
      "source": [
        "# (start,stop,no of samples to be generated)\n",
        "\n",
        "arr12=np.linspace((1,2),(10,20),10)\n",
        "print(arr12)\n"
      ],
      "metadata": {
        "colab": {
          "base_uri": "https://localhost:8080/"
        },
        "id": "tbH_i7vGUt_U",
        "outputId": "79c1fcfc-3997-4aab-9063-5ca19fa705c6"
      },
      "execution_count": 97,
      "outputs": [
        {
          "output_type": "stream",
          "name": "stdout",
          "text": [
            "[[ 1.  2.]\n",
            " [ 2.  4.]\n",
            " [ 3.  6.]\n",
            " [ 4.  8.]\n",
            " [ 5. 10.]\n",
            " [ 6. 12.]\n",
            " [ 7. 14.]\n",
            " [ 8. 16.]\n",
            " [ 9. 18.]\n",
            " [10. 20.]]\n"
          ]
        }
      ]
    },
    {
      "cell_type": "code",
      "source": [
        "#full(dimension,element to be filled)\n",
        "arr13=np.full((2,2,2),10)#tensor is a 3d array\n",
        "print(arr13)\n"
      ],
      "metadata": {
        "colab": {
          "base_uri": "https://localhost:8080/"
        },
        "id": "7KQ1O62JWM5k",
        "outputId": "74e88003-13cb-4bce-ba72-8885e8f7ed61"
      },
      "execution_count": 18,
      "outputs": [
        {
          "output_type": "stream",
          "name": "stdout",
          "text": [
            "[[[10 10]\n",
            "  [10 10]]\n",
            "\n",
            " [[10 10]\n",
            "  [10 10]]]\n"
          ]
        }
      ]
    },
    {
      "cell_type": "code",
      "source": [
        "#The shape attribute returns a tuple representing the dimensions of the array\n",
        "print(arr12.shape)\n",
        "print(arr13.shape)\n",
        "print(arr12.size)\n",
        "print(arr13.size)\n",
        "print(arr13.ndim)"
      ],
      "metadata": {
        "colab": {
          "base_uri": "https://localhost:8080/"
        },
        "id": "Le9UDDiBWWXZ",
        "outputId": "fa9cb981-9c97-47d5-ac57-0dc8a76dba11"
      },
      "execution_count": 19,
      "outputs": [
        {
          "output_type": "stream",
          "name": "stdout",
          "text": [
            "(10, 2)\n",
            "(2, 2, 2)\n",
            "20\n",
            "8\n",
            "3\n"
          ]
        }
      ]
    },
    {
      "cell_type": "code",
      "source": [
        "#The ndim attribute returns the number of dimensions of the array.\n",
        "\n",
        "arr_1d = np.array([1, 2, 3])\n",
        "print(arr_1d.ndim)  # Output: 1\n",
        "\n",
        "arr_2d = np.array([[1, 2, 3], [4, 5, 6]])\n",
        "print(arr_2d.ndim)  # Output: 2\n"
      ],
      "metadata": {
        "colab": {
          "base_uri": "https://localhost:8080/"
        },
        "id": "h9IDFF21m7x1",
        "outputId": "13497b08-c476-44ea-f8e6-41c3522ce495"
      },
      "execution_count": 100,
      "outputs": [
        {
          "output_type": "stream",
          "name": "stdout",
          "text": [
            "1\n",
            "2\n"
          ]
        }
      ]
    },
    {
      "cell_type": "code",
      "source": [
        "\n",
        "first_list=[1,2,3,4,5,6,7,8,9,10]\n",
        "first_array=np.array(first_list)\n",
        "print(first_array)\n",
        "\n",
        "second_list=[1,2,3,-1.23,50,128000.56,4.56]\n",
        "second_array=np.array(second_list)\n",
        "print(second_array)\n",
        "#print(second_array.dtype)\n",
        "\n",
        "\n",
        "third_list=['Ann',111111,'Peter',111112,'Susan',111113,'John',111114]\n",
        "third_array=np.array(third_list)\n",
        "print(third_array)\n",
        "\n",
        "\n"
      ],
      "metadata": {
        "id": "_XqBYlmWYA69",
        "colab": {
          "base_uri": "https://localhost:8080/"
        },
        "outputId": "24f33793-e549-4f7b-bf3f-c9da3f4dfef7"
      },
      "execution_count": 101,
      "outputs": [
        {
          "output_type": "stream",
          "name": "stdout",
          "text": [
            "[ 1  2  3  4  5  6  7  8  9 10]\n",
            "[ 1.0000000e+00  2.0000000e+00  3.0000000e+00 -1.2300000e+00\n",
            "  5.0000000e+01  1.2800056e+05  4.5600000e+00]\n",
            "['Ann' '111111' 'Peter' '111112' 'Susan' '111113' 'John' '111114']\n"
          ]
        }
      ]
    },
    {
      "cell_type": "code",
      "source": [
        "first_tuple=(5, 10, 15, 20, 25, 30)\n",
        "array_from_tuple=np.array(first_tuple)\n",
        "print(array_from_tuple)\n",
        "\n",
        "\n",
        "print(\"\\nTensor\")\n",
        "multi_dim_list=[[[0,1,2], [3,4,5]], [[6,7,8],[9,10,11]]]\n",
        "arr_from_multi_dim_list=np.array(multi_dim_list)\n",
        "print(arr_from_multi_dim_list)"
      ],
      "metadata": {
        "colab": {
          "base_uri": "https://localhost:8080/"
        },
        "id": "iaoUHLRJHahO",
        "outputId": "81142853-623c-4c04-82a6-5b2039e27399"
      },
      "execution_count": 102,
      "outputs": [
        {
          "output_type": "stream",
          "name": "stdout",
          "text": [
            "[ 5 10 15 20 25 30]\n",
            "\n",
            "Tensor\n",
            "[[[ 0  1  2]\n",
            "  [ 3  4  5]]\n",
            "\n",
            " [[ 6  7  8]\n",
            "  [ 9 10 11]]]\n"
          ]
        }
      ]
    },
    {
      "cell_type": "markdown",
      "source": [
        "Adding , Removing & Sorting Elements"
      ],
      "metadata": {
        "id": "hU4BAJuPILH7"
      }
    },
    {
      "cell_type": "code",
      "source": [
        "first_arr=np.array([1, 2, 3, 5])\n",
        "print(first_arr)\n",
        "\n",
        "# np.insert is a NumPy function that allows you to insert values along a given axis before a specified index.\n",
        "# numpy.insert(arr, obj:Index before which values should be inserted, values, axis=None)\n",
        "\n",
        "new_first_arr=np.insert(first_arr,3,4)\n",
        "print(new_first_arr)\n",
        "\n",
        "\n",
        "arr = np.array([1,2,3,4,5])\n",
        "new_arr = np.insert(arr,2,[10,11])\n",
        "print(new_arr)"
      ],
      "metadata": {
        "colab": {
          "base_uri": "https://localhost:8080/"
        },
        "id": "soOOZzNIHrp-",
        "outputId": "2d39e93d-eec0-47fe-ac85-39219c705dc8"
      },
      "execution_count": 106,
      "outputs": [
        {
          "output_type": "stream",
          "name": "stdout",
          "text": [
            "[1 2 3 5]\n",
            "[1 2 3 4 5]\n",
            "[ 1  2 10 11  3  4  5]\n"
          ]
        }
      ]
    },
    {
      "cell_type": "code",
      "source": [
        "second_arr=np.array([1,2,3,4])\n",
        "print(second_arr)\n",
        "\n",
        "new_second_arr=np.append(second_arr,5)\n",
        "print(new_second_arr)"
      ],
      "metadata": {
        "colab": {
          "base_uri": "https://localhost:8080/"
        },
        "id": "JijlKhS4Ikkq",
        "outputId": "0974d201-15e1-441f-924c-d8e3b02a9523"
      },
      "execution_count": 23,
      "outputs": [
        {
          "output_type": "stream",
          "name": "stdout",
          "text": [
            "[1 2 3 4]\n",
            "[1 2 3 4 5]\n"
          ]
        }
      ]
    },
    {
      "cell_type": "code",
      "source": [
        "third_arr=np.array([1,2,3,4,5])\n",
        "print(third_arr)\n",
        "\n",
        "del_arr=np.delete(third_arr,4)\n",
        "print(del_arr)"
      ],
      "metadata": {
        "colab": {
          "base_uri": "https://localhost:8080/"
        },
        "id": "qYSSuObrIupV",
        "outputId": "1d8b0f94-5f44-4998-a284-c76ca9fa27aa"
      },
      "execution_count": 24,
      "outputs": [
        {
          "output_type": "stream",
          "name": "stdout",
          "text": [
            "[1 2 3 4 5]\n",
            "[1 2 3 4]\n"
          ]
        }
      ]
    },
    {
      "cell_type": "code",
      "source": [
        "integers_arr=np.random.randint(0,20,20)\n",
        "print(integers_arr)\n",
        "print(np.sort(integers_arr))\n",
        "\n",
        "print(\"\\n\")\n",
        "\n",
        "integers_2dim_arr=np.array([[3, 2, 5,7, 4], [5, 0, 8,3, 1]])\n",
        "print(integers_2dim_arr)\n",
        "print(np.sort(integers_2dim_arr))"
      ],
      "metadata": {
        "colab": {
          "base_uri": "https://localhost:8080/"
        },
        "id": "2TJgfOrXI1yw",
        "outputId": "0ba6c2c9-3e75-480f-e5e9-c8eb5051d487"
      },
      "execution_count": 107,
      "outputs": [
        {
          "output_type": "stream",
          "name": "stdout",
          "text": [
            "[11 19  4 17 13  7 17 17  1 11  0  6 16  3 16 18  3 14 16  5]\n",
            "[ 0  1  3  3  4  5  6  7 11 11 13 14 16 16 16 17 17 17 18 19]\n",
            "\n",
            "\n",
            "[[3 2 5 7 4]\n",
            " [5 0 8 3 1]]\n",
            "[[2 3 4 5 7]\n",
            " [0 1 3 5 8]]\n"
          ]
        }
      ]
    },
    {
      "cell_type": "code",
      "source": [
        "colors=np.array(['orange','green','yellow','white','black','pink','blue','red'])\n",
        "print(np.sort(colors))"
      ],
      "metadata": {
        "colab": {
          "base_uri": "https://localhost:8080/"
        },
        "id": "_PKxK41ZI4zz",
        "outputId": "e95b0e91-0585-490f-b14b-c0595fc6ff86"
      },
      "execution_count": 26,
      "outputs": [
        {
          "output_type": "stream",
          "name": "stdout",
          "text": [
            "['black' 'blue' 'green' 'orange' 'pink' 'red' 'white' 'yellow']\n"
          ]
        }
      ]
    },
    {
      "cell_type": "markdown",
      "source": [
        "Copies & Views\n"
      ],
      "metadata": {
        "id": "5s-Y9TaNKlyv"
      }
    },
    {
      "cell_type": "code",
      "source": [
        "#id() is often referred to as address of an object in python\n",
        "students_ids_number=np.array([1111,1212,1313,1414,1515,1616,1717,1818])\n",
        "\n",
        "students_ids_number_reg=students_ids_number\n",
        "print(\"id of students_ids_number\",id(students_ids_number))\n",
        "print(\"id of students_ids_number_reg\",id(students_ids_number_reg))"
      ],
      "metadata": {
        "colab": {
          "base_uri": "https://localhost:8080/"
        },
        "id": "DBhWK0r-JiX9",
        "outputId": "32ea2998-cd39-4033-f5c6-2f4e61d4c447"
      },
      "execution_count": 27,
      "outputs": [
        {
          "output_type": "stream",
          "name": "stdout",
          "text": [
            "id of students_ids_number 137811007279568\n",
            "id of students_ids_number_reg 137811007279568\n"
          ]
        }
      ]
    },
    {
      "cell_type": "code",
      "source": [
        "students_ids_number_reg[1]=2222\n",
        "print(students_ids_number)\n",
        "print(students_ids_number_reg)"
      ],
      "metadata": {
        "colab": {
          "base_uri": "https://localhost:8080/"
        },
        "id": "nqlNsIXWLCru",
        "outputId": "ce110fbd-0d73-4fce-e10f-1d423e21ea5f"
      },
      "execution_count": 108,
      "outputs": [
        {
          "output_type": "stream",
          "name": "stdout",
          "text": [
            "[2000 2222 1313 1414 1515 1616 1717 1818]\n",
            "[2000 2222 1313 1414 1515 1616 1717 1818]\n"
          ]
        }
      ]
    },
    {
      "cell_type": "code",
      "source": [
        "#Creating a copy\n",
        "students_ids_number_cp=students_ids_number.copy()\n",
        "print(students_ids_number_cp)\n",
        "print(students_ids_number_cp==students_ids_number)"
      ],
      "metadata": {
        "colab": {
          "base_uri": "https://localhost:8080/"
        },
        "id": "pE4P4YPSLGFT",
        "outputId": "b7fab724-4d34-4347-c168-927172cf94bc"
      },
      "execution_count": 29,
      "outputs": [
        {
          "output_type": "stream",
          "name": "stdout",
          "text": [
            "[1111 2222 1313 1414 1515 1616 1717 1818]\n",
            "[ True  True  True  True  True  True  True  True]\n"
          ]
        }
      ]
    },
    {
      "cell_type": "code",
      "source": [
        "print (\"id of students_ids_number\",id(students_ids_number))\n",
        "print(\"id of students_ids_number_cp\",id(students_ids_number_cp))"
      ],
      "metadata": {
        "colab": {
          "base_uri": "https://localhost:8080/"
        },
        "id": "JhXK2R1mLSLK",
        "outputId": "d2b6837a-d2ad-4f40-d8e8-1b7ce0c0ed1f"
      },
      "execution_count": 30,
      "outputs": [
        {
          "output_type": "stream",
          "name": "stdout",
          "text": [
            "id of students_ids_number 137811007279568\n",
            "id of students_ids_number_cp 137811007279952\n"
          ]
        }
      ]
    },
    {
      "cell_type": "code",
      "source": [
        "#Any change made in previous array doesnt gets reflected in copy array\n",
        "students_ids_number[0]=1000\n",
        "print (\"original: \", students_ids_number)\n",
        "print(\"copy: \",students_ids_number_cp)"
      ],
      "metadata": {
        "colab": {
          "base_uri": "https://localhost:8080/"
        },
        "id": "o0tQGNrPLUMB",
        "outputId": "2e819185-2758-4c33-e46f-0be33a3c6c02"
      },
      "execution_count": 31,
      "outputs": [
        {
          "output_type": "stream",
          "name": "stdout",
          "text": [
            "original:  [1000 2222 1313 1414 1515 1616 1717 1818]\n",
            "copy:  [1111 2222 1313 1414 1515 1616 1717 1818]\n"
          ]
        }
      ]
    },
    {
      "cell_type": "code",
      "source": [
        "#.view() method is used to create a new array object with the same data as the original array but with a different shape\n",
        "#or data type. The .view() method does not create a new copy of the data;\n",
        "#it creates a view or a \"window\" into the existing data.\n",
        "\n",
        "students_ids_number_v=students_ids_number.view()\n",
        "\n",
        "students_ids_number_v[0]=2000\n",
        "#Changes made to one array will affect the other since they share the same underlying data:\n",
        "print(\"original: \", students_ids_number)\n",
        "print(\"view:\",students_ids_number_v)"
      ],
      "metadata": {
        "colab": {
          "base_uri": "https://localhost:8080/"
        },
        "id": "1MRBUpLALXXf",
        "outputId": "7a1c607b-f050-4552-ead4-c4fb2584046b"
      },
      "execution_count": 109,
      "outputs": [
        {
          "output_type": "stream",
          "name": "stdout",
          "text": [
            "original:  [2000 2222 1313 1414 1515 1616 1717 1818]\n",
            "view: [2000 2222 1313 1414 1515 1616 1717 1818]\n"
          ]
        }
      ]
    },
    {
      "cell_type": "code",
      "source": [
        "print(students_ids_number_cp.base)\n",
        "print(students_ids_number_v.base)\n"
      ],
      "metadata": {
        "colab": {
          "base_uri": "https://localhost:8080/"
        },
        "id": "vBA3CGWULiie",
        "outputId": "191ebeac-708d-4bb7-82b1-5f95b70dc73a"
      },
      "execution_count": 33,
      "outputs": [
        {
          "output_type": "stream",
          "name": "stdout",
          "text": [
            "None\n",
            "[2000 2222 1313 1414 1515 1616 1717 1818]\n"
          ]
        }
      ]
    },
    {
      "cell_type": "markdown",
      "source": [
        "Main difference between a copy and a view of an array is that the copy is a new array, and the view is just a view of the original array."
      ],
      "metadata": {
        "id": "4lqTbsFoZrQi"
      }
    },
    {
      "cell_type": "markdown",
      "source": [
        "**Reshaping Arrays**"
      ],
      "metadata": {
        "id": "G-XkVHduabK7"
      }
    },
    {
      "cell_type": "code",
      "source": [
        "shape_array=np.arange(1,13)\n",
        "print(shape_array)\n",
        "\n",
        "print(\"\\n\")\n",
        "nshape_array=np.reshape(shape_array,(6,2))# 6 rows , 2 columns\n",
        "print(nshape_array)\n",
        "print(\"\\n\")\n",
        "\n",
        "nshape_array=np.reshape(shape_array,(4,3))# 4 rows , 3 columns\n",
        "print(nshape_array)\n",
        "\n",
        "print(\"\\n\")\n",
        "\n",
        "nshape_array=np.reshape(shape_array,(3,2,2))\n",
        "print(nshape_array)"
      ],
      "metadata": {
        "colab": {
          "base_uri": "https://localhost:8080/"
        },
        "id": "ojydfuAaLjF1",
        "outputId": "cafbff23-95c1-45e5-ee29-7e302256c593"
      },
      "execution_count": 34,
      "outputs": [
        {
          "output_type": "stream",
          "name": "stdout",
          "text": [
            "[ 1  2  3  4  5  6  7  8  9 10 11 12]\n",
            "\n",
            "\n",
            "[[ 1  2]\n",
            " [ 3  4]\n",
            " [ 5  6]\n",
            " [ 7  8]\n",
            " [ 9 10]\n",
            " [11 12]]\n",
            "\n",
            "\n",
            "[[ 1  2  3]\n",
            " [ 4  5  6]\n",
            " [ 7  8  9]\n",
            " [10 11 12]]\n",
            "\n",
            "\n",
            "[[[ 1  2]\n",
            "  [ 3  4]]\n",
            "\n",
            " [[ 5  6]\n",
            "  [ 7  8]]\n",
            "\n",
            " [[ 9 10]\n",
            "  [11 12]]]\n"
          ]
        }
      ]
    },
    {
      "cell_type": "code",
      "source": [
        "#Converting 2D array into 1D using reshape,flatten & ravel\n",
        "\n",
        "sixth_arr=np.array([[1,2],[3,4],[5,6]])\n",
        "print(sixth_arr)\n",
        "print(\"\\n\")\n",
        "\n",
        "seventh_arr_flat=np.reshape(sixth_arr,-1)\n",
        "print(\"array_using_reshape\",seventh_arr_flat)\n",
        "\n",
        "eighth_arr_flat=sixth_arr.flatten()\n",
        "print(\"\\narr_using_flatten:\",eighth_arr_flat)\n",
        "\n",
        "ninth_arr_rav=sixth_arr.ravel()\n",
        "print(\"\\narr_using_ravel:\",ninth_arr_rav)\n",
        "\n",
        "\n",
        "#Reshape refers to chnaging shape of an array w/o changing data\n",
        "#Flattening involves converting multi-dimensional array into one dimension\n",
        "#FLatten returns copy of original array.Modifying flattened array does not changes original array\n",
        "#Ravel returns reference/view of original array . Modifying ravelled array changes original array\n"
      ],
      "metadata": {
        "colab": {
          "base_uri": "https://localhost:8080/"
        },
        "id": "g1OtIxzpbks3",
        "outputId": "0b9d3d80-c6c2-4ff7-ffcb-0edb780e485a"
      },
      "execution_count": 35,
      "outputs": [
        {
          "output_type": "stream",
          "name": "stdout",
          "text": [
            "[[1 2]\n",
            " [3 4]\n",
            " [5 6]]\n",
            "\n",
            "\n",
            "array_using_reshape [1 2 3 4 5 6]\n",
            "\n",
            "arr_using_flatten: [1 2 3 4 5 6]\n",
            "\n",
            "arr_using_ravel: [1 2 3 4 5 6]\n"
          ]
        }
      ]
    },
    {
      "cell_type": "code",
      "source": [
        "eighth_arr_flat[0]=100\n",
        "print(\"sixth_arr:\",sixth_arr)\n",
        "print(\"eighth_arr_flat:\",eighth_arr_flat)\n",
        "\n"
      ],
      "metadata": {
        "colab": {
          "base_uri": "https://localhost:8080/"
        },
        "id": "ows2DMLecdCu",
        "outputId": "a3a43200-dd5a-4245-f7eb-7cbf80261d15"
      },
      "execution_count": 36,
      "outputs": [
        {
          "output_type": "stream",
          "name": "stdout",
          "text": [
            "sixth_arr: [[1 2]\n",
            " [3 4]\n",
            " [5 6]]\n",
            "eighth_arr_flat: [100   2   3   4   5   6]\n"
          ]
        }
      ]
    },
    {
      "cell_type": "code",
      "source": [
        "ninth_arr_rav[0]=300\n",
        "print(\"ninth_arr_rav:\",ninth_arr_rav)\n",
        "print(\"sixth_arr:\",sixth_arr)"
      ],
      "metadata": {
        "colab": {
          "base_uri": "https://localhost:8080/"
        },
        "id": "lFF8uAM-fjPp",
        "outputId": "54df5714-15b8-463b-9cd3-c9cb5dfa0dcc"
      },
      "execution_count": 37,
      "outputs": [
        {
          "output_type": "stream",
          "name": "stdout",
          "text": [
            "ninth_arr_rav: [300   2   3   4   5   6]\n",
            "sixth_arr: [[300   2]\n",
            " [  3   4]\n",
            " [  5   6]]\n"
          ]
        }
      ]
    },
    {
      "cell_type": "markdown",
      "source": [
        "**Indexing and Slicing**"
      ],
      "metadata": {
        "id": "ZsgSZD_zk39v"
      }
    },
    {
      "cell_type": "code",
      "source": [
        "twodim_arr=np.reshape(np.arange(12),(3,4))\n",
        "twodim_arr"
      ],
      "metadata": {
        "colab": {
          "base_uri": "https://localhost:8080/"
        },
        "id": "W8jTOeMpgH6P",
        "outputId": "73c38294-dde3-439e-f08f-1d5fe26e7248"
      },
      "execution_count": 38,
      "outputs": [
        {
          "output_type": "execute_result",
          "data": {
            "text/plain": [
              "array([[ 0,  1,  2,  3],\n",
              "       [ 4,  5,  6,  7],\n",
              "       [ 8,  9, 10, 11]])"
            ]
          },
          "metadata": {},
          "execution_count": 38
        }
      ]
    },
    {
      "cell_type": "code",
      "source": [
        "print(twodim_arr[1,1])\n",
        "print(twodim_arr[1])"
      ],
      "metadata": {
        "colab": {
          "base_uri": "https://localhost:8080/"
        },
        "id": "RXx0nkITmWYo",
        "outputId": "14886860-b3c6-48ed-a5ac-b0c256472285"
      },
      "execution_count": 39,
      "outputs": [
        {
          "output_type": "stream",
          "name": "stdout",
          "text": [
            "5\n",
            "[4 5 6 7]\n"
          ]
        }
      ]
    },
    {
      "cell_type": "code",
      "source": [
        "threedim_arr=np.reshape(np.arange(3*4*5),(3,4,5))\n",
        "threedim_arr\n"
      ],
      "metadata": {
        "colab": {
          "base_uri": "https://localhost:8080/"
        },
        "id": "bRXgw32fmZIs",
        "outputId": "7eb4b512-b4c3-4af2-9d38-3c977f48a8a4"
      },
      "execution_count": 40,
      "outputs": [
        {
          "output_type": "execute_result",
          "data": {
            "text/plain": [
              "array([[[ 0,  1,  2,  3,  4],\n",
              "        [ 5,  6,  7,  8,  9],\n",
              "        [10, 11, 12, 13, 14],\n",
              "        [15, 16, 17, 18, 19]],\n",
              "\n",
              "       [[20, 21, 22, 23, 24],\n",
              "        [25, 26, 27, 28, 29],\n",
              "        [30, 31, 32, 33, 34],\n",
              "        [35, 36, 37, 38, 39]],\n",
              "\n",
              "       [[40, 41, 42, 43, 44],\n",
              "        [45, 46, 47, 48, 49],\n",
              "        [50, 51, 52, 53, 54],\n",
              "        [55, 56, 57, 58, 59]]])"
            ]
          },
          "metadata": {},
          "execution_count": 40
        }
      ]
    },
    {
      "cell_type": "code",
      "source": [
        "print(threedim_arr[0,2,3])\n",
        "print(\"Indexing from end: \")\n",
        "print(threedim_arr[2,-1,-1])"
      ],
      "metadata": {
        "colab": {
          "base_uri": "https://localhost:8080/"
        },
        "id": "ZKVCxsoRmkRS",
        "outputId": "956e9db2-4c36-4589-ada4-72677af2bbc4"
      },
      "execution_count": 41,
      "outputs": [
        {
          "output_type": "stream",
          "name": "stdout",
          "text": [
            "13\n",
            "Indexing from end: \n",
            "59\n"
          ]
        }
      ]
    },
    {
      "cell_type": "code",
      "source": [
        "onedim_arr=np.arange(10)\n",
        "print(onedim_arr)\n",
        "#Slicing [start,stop)\n",
        "print(onedim_arr[2:6])\n",
        "print(onedim_arr[:5])\n",
        "\n",
        "#Last 3\n",
        "print(onedim_arr[-3:])\n",
        "\n",
        "#[Start,stop,step)\n",
        "print(onedim_arr[::2])"
      ],
      "metadata": {
        "colab": {
          "base_uri": "https://localhost:8080/"
        },
        "id": "Oh3zbCeHnA7G",
        "outputId": "2eb0cf79-151b-47cd-9907-6216d92e2a82"
      },
      "execution_count": 42,
      "outputs": [
        {
          "output_type": "stream",
          "name": "stdout",
          "text": [
            "[0 1 2 3 4 5 6 7 8 9]\n",
            "[2 3 4 5]\n",
            "[0 1 2 3 4]\n",
            "[7 8 9]\n",
            "[0 2 4 6 8]\n"
          ]
        }
      ]
    },
    {
      "cell_type": "code",
      "source": [
        "print(twodim_arr)"
      ],
      "metadata": {
        "colab": {
          "base_uri": "https://localhost:8080/"
        },
        "id": "--7qG3JjnWwd",
        "outputId": "788c78bf-f97a-4092-862b-9fb2d5930527"
      },
      "execution_count": 43,
      "outputs": [
        {
          "output_type": "stream",
          "name": "stdout",
          "text": [
            "[[ 0  1  2  3]\n",
            " [ 4  5  6  7]\n",
            " [ 8  9 10 11]]\n"
          ]
        }
      ]
    },
    {
      "cell_type": "code",
      "source": [
        "#Trimming 0th row and 0th column\n",
        "print(twodim_arr[1:,1:])\n",
        "\n",
        "#Printing 1st row\n",
        "print(twodim_arr[1,:])\n",
        "\n",
        "#Printing 2nd column\n",
        "print(twodim_arr[:,2])\n"
      ],
      "metadata": {
        "colab": {
          "base_uri": "https://localhost:8080/"
        },
        "id": "tv7rCrJooGDb",
        "outputId": "bcaed67f-fdb0-404f-c616-c24edfe1ad66"
      },
      "execution_count": 44,
      "outputs": [
        {
          "output_type": "stream",
          "name": "stdout",
          "text": [
            "[[ 5  6  7]\n",
            " [ 9 10 11]]\n",
            "[4 5 6 7]\n",
            "[ 2  6 10]\n"
          ]
        }
      ]
    },
    {
      "cell_type": "code",
      "source": [
        "first_arr=np.arange(1,11)\n",
        "second_arr=np.arange(11,21)\n",
        "print(\"first_arr\",first_arr)\n",
        "print(\"second_arr\",second_arr)\n",
        "con_arr=np.concatenate((first_arr,second_arr))\n",
        "con_arr"
      ],
      "metadata": {
        "colab": {
          "base_uri": "https://localhost:8080/"
        },
        "id": "jptPNzyDoPeZ",
        "outputId": "d7741a30-af45-4238-dd35-c0477330e862"
      },
      "execution_count": 45,
      "outputs": [
        {
          "output_type": "stream",
          "name": "stdout",
          "text": [
            "first_arr [ 1  2  3  4  5  6  7  8  9 10]\n",
            "second_arr [11 12 13 14 15 16 17 18 19 20]\n"
          ]
        },
        {
          "output_type": "execute_result",
          "data": {
            "text/plain": [
              "array([ 1,  2,  3,  4,  5,  6,  7,  8,  9, 10, 11, 12, 13, 14, 15, 16, 17,\n",
              "       18, 19, 20])"
            ]
          },
          "metadata": {},
          "execution_count": 45
        }
      ]
    },
    {
      "cell_type": "code",
      "source": [
        "third_2darr=np.array([[1,2,3,4,5], [6,7,8,9,10]])\n",
        "print(third_2darr)\n",
        "fourth_2darr=np.array([[11,12,13,14,15], [16,17,18,19,20]])\n",
        "print(fourth_2darr)\n",
        "\n",
        "con2d_arr = np.concatenate((third_2darr,fourth_2darr),axis=1)\n",
        "con2d_arr"
      ],
      "metadata": {
        "colab": {
          "base_uri": "https://localhost:8080/"
        },
        "id": "d_K_v7Vh6KD-",
        "outputId": "dd231907-deda-40e5-8135-17850e4dbfa5"
      },
      "execution_count": 46,
      "outputs": [
        {
          "output_type": "stream",
          "name": "stdout",
          "text": [
            "[[ 1  2  3  4  5]\n",
            " [ 6  7  8  9 10]]\n",
            "[[11 12 13 14 15]\n",
            " [16 17 18 19 20]]\n"
          ]
        },
        {
          "output_type": "execute_result",
          "data": {
            "text/plain": [
              "array([[ 1,  2,  3,  4,  5, 11, 12, 13, 14, 15],\n",
              "       [ 6,  7,  8,  9, 10, 16, 17, 18, 19, 20]])"
            ]
          },
          "metadata": {},
          "execution_count": 46
        }
      ]
    },
    {
      "cell_type": "code",
      "source": [
        "st_arr = np.stack((first_arr,second_arr),axis=0)\n",
        "st_arr"
      ],
      "metadata": {
        "colab": {
          "base_uri": "https://localhost:8080/"
        },
        "id": "nThZgiRe6dLH",
        "outputId": "5a39adb5-daf8-4692-cafb-065a9d7445a4"
      },
      "execution_count": 47,
      "outputs": [
        {
          "output_type": "execute_result",
          "data": {
            "text/plain": [
              "array([[ 1,  2,  3,  4,  5,  6,  7,  8,  9, 10],\n",
              "       [11, 12, 13, 14, 15, 16, 17, 18, 19, 20]])"
            ]
          },
          "metadata": {},
          "execution_count": 47
        }
      ]
    },
    {
      "cell_type": "code",
      "source": [
        "st_arr = np.stack((first_arr,second_arr),axis=1)\n",
        "st_arr"
      ],
      "metadata": {
        "colab": {
          "base_uri": "https://localhost:8080/"
        },
        "id": "roDC1KQh6p6G",
        "outputId": "5c890b00-83be-4e5f-94ca-1454cbfad548"
      },
      "execution_count": 48,
      "outputs": [
        {
          "output_type": "execute_result",
          "data": {
            "text/plain": [
              "array([[ 1, 11],\n",
              "       [ 2, 12],\n",
              "       [ 3, 13],\n",
              "       [ 4, 14],\n",
              "       [ 5, 15],\n",
              "       [ 6, 16],\n",
              "       [ 7, 17],\n",
              "       [ 8, 18],\n",
              "       [ 9, 19],\n",
              "       [10, 20]])"
            ]
          },
          "metadata": {},
          "execution_count": 48
        }
      ]
    },
    {
      "cell_type": "code",
      "source": [
        "hst_arr=np.hstack((first_arr,second_arr))\n",
        "hst_arr"
      ],
      "metadata": {
        "colab": {
          "base_uri": "https://localhost:8080/"
        },
        "id": "M_zGW-DB7vP-",
        "outputId": "538c96ed-3864-4d48-d830-aa4aa28cf1d5"
      },
      "execution_count": 49,
      "outputs": [
        {
          "output_type": "execute_result",
          "data": {
            "text/plain": [
              "array([ 1,  2,  3,  4,  5,  6,  7,  8,  9, 10, 11, 12, 13, 14, 15, 16, 17,\n",
              "       18, 19, 20])"
            ]
          },
          "metadata": {},
          "execution_count": 49
        }
      ]
    },
    {
      "cell_type": "code",
      "source": [
        "vst_arr=np.vstack((first_arr,second_arr))\n",
        "vst_arr"
      ],
      "metadata": {
        "colab": {
          "base_uri": "https://localhost:8080/"
        },
        "id": "kkfpP4Ki8_kx",
        "outputId": "15dcba68-5743-4dfd-85c3-77d682eba9ff"
      },
      "execution_count": 50,
      "outputs": [
        {
          "output_type": "execute_result",
          "data": {
            "text/plain": [
              "array([[ 1,  2,  3,  4,  5,  6,  7,  8,  9, 10],\n",
              "       [11, 12, 13, 14, 15, 16, 17, 18, 19, 20]])"
            ]
          },
          "metadata": {},
          "execution_count": 50
        }
      ]
    },
    {
      "cell_type": "code",
      "source": [
        "fifth_arr=np.arange(1,13)\n",
        "fifth_arr"
      ],
      "metadata": {
        "colab": {
          "base_uri": "https://localhost:8080/"
        },
        "id": "NT8yW8yT9Btw",
        "outputId": "bbd27da6-2269-4b13-cdaa-d38c271f34a9"
      },
      "execution_count": 51,
      "outputs": [
        {
          "output_type": "execute_result",
          "data": {
            "text/plain": [
              "array([ 1,  2,  3,  4,  5,  6,  7,  8,  9, 10, 11, 12])"
            ]
          },
          "metadata": {},
          "execution_count": 51
        }
      ]
    },
    {
      "cell_type": "code",
      "source": [
        "#Split array into 4 parts\n",
        "sp_arr=np.array_split(fifth_arr,4)\n",
        "sp_arr"
      ],
      "metadata": {
        "colab": {
          "base_uri": "https://localhost:8080/"
        },
        "id": "e9QyIMVf9VK3",
        "outputId": "53b87f74-5058-490c-ceb8-2126f8ea1d6d"
      },
      "execution_count": 52,
      "outputs": [
        {
          "output_type": "execute_result",
          "data": {
            "text/plain": [
              "[array([1, 2, 3]), array([4, 5, 6]), array([7, 8, 9]), array([10, 11, 12])]"
            ]
          },
          "metadata": {},
          "execution_count": 52
        }
      ]
    },
    {
      "cell_type": "code",
      "source": [
        "print(sp_arr[1])"
      ],
      "metadata": {
        "colab": {
          "base_uri": "https://localhost:8080/"
        },
        "id": "bMdWSsRO9aA4",
        "outputId": "4484a5c8-1603-4bff-9fd5-5513f8723516"
      },
      "execution_count": 53,
      "outputs": [
        {
          "output_type": "stream",
          "name": "stdout",
          "text": [
            "[4 5 6]\n"
          ]
        }
      ]
    },
    {
      "cell_type": "code",
      "source": [
        "sp_arr=np.array_split(fifth_arr,8)\n",
        "sp_arr"
      ],
      "metadata": {
        "colab": {
          "base_uri": "https://localhost:8080/"
        },
        "id": "VPyKiu-K9fHR",
        "outputId": "6bc9153d-e948-41e4-cd20-5585dd05ccc2"
      },
      "execution_count": 54,
      "outputs": [
        {
          "output_type": "execute_result",
          "data": {
            "text/plain": [
              "[array([1, 2]),\n",
              " array([3, 4]),\n",
              " array([5, 6]),\n",
              " array([7, 8]),\n",
              " array([9]),\n",
              " array([10]),\n",
              " array([11]),\n",
              " array([12])]"
            ]
          },
          "metadata": {},
          "execution_count": 54
        }
      ]
    },
    {
      "cell_type": "code",
      "source": [
        "np.hsplit(third_2darr,5)"
      ],
      "metadata": {
        "colab": {
          "base_uri": "https://localhost:8080/"
        },
        "id": "B3rvIFQ59iGm",
        "outputId": "4dad937d-028f-452b-d89f-8d16bb18eba4"
      },
      "execution_count": 55,
      "outputs": [
        {
          "output_type": "execute_result",
          "data": {
            "text/plain": [
              "[array([[1],\n",
              "        [6]]),\n",
              " array([[2],\n",
              "        [7]]),\n",
              " array([[3],\n",
              "        [8]]),\n",
              " array([[4],\n",
              "        [9]]),\n",
              " array([[ 5],\n",
              "        [10]])]"
            ]
          },
          "metadata": {},
          "execution_count": 55
        }
      ]
    },
    {
      "cell_type": "code",
      "source": [
        "vs_arr=np.vsplit(third_2darr,2)\n",
        "vs_arr"
      ],
      "metadata": {
        "colab": {
          "base_uri": "https://localhost:8080/"
        },
        "id": "aNuuXMs89yhx",
        "outputId": "1f32515b-b497-4bb2-b0e9-c471fb64b159"
      },
      "execution_count": 56,
      "outputs": [
        {
          "output_type": "execute_result",
          "data": {
            "text/plain": [
              "[array([[1, 2, 3, 4, 5]]), array([[ 6,  7,  8,  9, 10]])]"
            ]
          },
          "metadata": {},
          "execution_count": 56
        }
      ]
    },
    {
      "cell_type": "markdown",
      "source": [
        "**Arithmetic Operations**"
      ],
      "metadata": {
        "id": "7vcureql_WWh"
      }
    },
    {
      "cell_type": "code",
      "source": [
        "a=np.arange(1,11)\n",
        "b=np.arange(21,31)"
      ],
      "metadata": {
        "id": "rYU7Inm197f0"
      },
      "execution_count": 57,
      "outputs": []
    },
    {
      "cell_type": "code",
      "source": [
        "print(a+b)\n",
        "\n",
        "print(b-a)\n",
        "print(a*b)\n",
        "print(a/b)"
      ],
      "metadata": {
        "colab": {
          "base_uri": "https://localhost:8080/"
        },
        "id": "gwuv4aRm_lK7",
        "outputId": "7221d596-a82d-4384-d6ae-5b2279fa87aa"
      },
      "execution_count": 58,
      "outputs": [
        {
          "output_type": "stream",
          "name": "stdout",
          "text": [
            "[22 24 26 28 30 32 34 36 38 40]\n",
            "[20 20 20 20 20 20 20 20 20 20]\n",
            "[ 21  44  69  96 125 156 189 224 261 300]\n",
            "[0.04761905 0.09090909 0.13043478 0.16666667 0.2        0.23076923\n",
            " 0.25925926 0.28571429 0.31034483 0.33333333]\n"
          ]
        }
      ]
    },
    {
      "cell_type": "code",
      "source": [
        "b**a #b power a"
      ],
      "metadata": {
        "colab": {
          "base_uri": "https://localhost:8080/"
        },
        "id": "fTqyGPBW_sn3",
        "outputId": "98df5788-76c5-4558-b978-b18342fac45b"
      },
      "execution_count": 59,
      "outputs": [
        {
          "output_type": "execute_result",
          "data": {
            "text/plain": [
              "array([             21,             484,           12167,          331776,\n",
              "               9765625,       308915776,     10460353203,    377801998336,\n",
              "        14507145975869, 590490000000000])"
            ]
          },
          "metadata": {},
          "execution_count": 59
        }
      ]
    },
    {
      "cell_type": "code",
      "source": [
        "a*2"
      ],
      "metadata": {
        "colab": {
          "base_uri": "https://localhost:8080/"
        },
        "id": "9s-CHFcI_927",
        "outputId": "d10cdc6a-c337-46de-cf5e-f4a2340e666a"
      },
      "execution_count": 60,
      "outputs": [
        {
          "output_type": "execute_result",
          "data": {
            "text/plain": [
              "array([ 2,  4,  6,  8, 10, 12, 14, 16, 18, 20])"
            ]
          },
          "metadata": {},
          "execution_count": 60
        }
      ]
    },
    {
      "cell_type": "code",
      "source": [
        "np.add(a,b)"
      ],
      "metadata": {
        "colab": {
          "base_uri": "https://localhost:8080/"
        },
        "id": "EXQclPQWAFJn",
        "outputId": "d96eb119-c676-4317-9498-a1abb9355f63"
      },
      "execution_count": 61,
      "outputs": [
        {
          "output_type": "execute_result",
          "data": {
            "text/plain": [
              "array([22, 24, 26, 28, 30, 32, 34, 36, 38, 40])"
            ]
          },
          "metadata": {},
          "execution_count": 61
        }
      ]
    },
    {
      "cell_type": "code",
      "source": [
        "np.subtract(b,a)"
      ],
      "metadata": {
        "colab": {
          "base_uri": "https://localhost:8080/"
        },
        "id": "3WWTUuuYALbb",
        "outputId": "db4e0a64-a96a-47f8-9d05-a50b0fcffa26"
      },
      "execution_count": 62,
      "outputs": [
        {
          "output_type": "execute_result",
          "data": {
            "text/plain": [
              "array([20, 20, 20, 20, 20, 20, 20, 20, 20, 20])"
            ]
          },
          "metadata": {},
          "execution_count": 62
        }
      ]
    },
    {
      "cell_type": "code",
      "source": [
        "np.multiply(a,b)"
      ],
      "metadata": {
        "colab": {
          "base_uri": "https://localhost:8080/"
        },
        "id": "GGrbX-m7ANIf",
        "outputId": "c966242b-55fa-4cba-acaf-16fadab56942"
      },
      "execution_count": 63,
      "outputs": [
        {
          "output_type": "execute_result",
          "data": {
            "text/plain": [
              "array([ 21,  44,  69,  96, 125, 156, 189, 224, 261, 300])"
            ]
          },
          "metadata": {},
          "execution_count": 63
        }
      ]
    },
    {
      "cell_type": "code",
      "source": [
        "np.divide(b,a)"
      ],
      "metadata": {
        "colab": {
          "base_uri": "https://localhost:8080/"
        },
        "id": "5H0ut0u9ARSB",
        "outputId": "75ab1d88-1f2e-4936-c817-d01c9a60609a"
      },
      "execution_count": 64,
      "outputs": [
        {
          "output_type": "execute_result",
          "data": {
            "text/plain": [
              "array([21.        , 11.        ,  7.66666667,  6.        ,  5.        ,\n",
              "        4.33333333,  3.85714286,  3.5       ,  3.22222222,  3.        ])"
            ]
          },
          "metadata": {},
          "execution_count": 64
        }
      ]
    },
    {
      "cell_type": "code",
      "source": [
        "np.mod(b,a)"
      ],
      "metadata": {
        "colab": {
          "base_uri": "https://localhost:8080/"
        },
        "id": "JmhEoqivAUrU",
        "outputId": "bc286079-9336-4c4f-d7db-99ba27d44965"
      },
      "execution_count": 65,
      "outputs": [
        {
          "output_type": "execute_result",
          "data": {
            "text/plain": [
              "array([0, 0, 2, 0, 0, 2, 6, 4, 2, 0])"
            ]
          },
          "metadata": {},
          "execution_count": 65
        }
      ]
    },
    {
      "cell_type": "code",
      "source": [
        "np.power(b,a)"
      ],
      "metadata": {
        "colab": {
          "base_uri": "https://localhost:8080/"
        },
        "id": "5joF3l5LAdvS",
        "outputId": "5b015655-401b-4a73-db49-b424470e0c0f"
      },
      "execution_count": 66,
      "outputs": [
        {
          "output_type": "execute_result",
          "data": {
            "text/plain": [
              "array([             21,             484,           12167,          331776,\n",
              "               9765625,       308915776,     10460353203,    377801998336,\n",
              "        14507145975869, 590490000000000])"
            ]
          },
          "metadata": {},
          "execution_count": 66
        }
      ]
    },
    {
      "cell_type": "code",
      "source": [
        "np.sqrt(a)"
      ],
      "metadata": {
        "colab": {
          "base_uri": "https://localhost:8080/"
        },
        "id": "0p6nl7A-Ai4i",
        "outputId": "9943cab7-d74c-4f4b-8022-b65cac3b5c5c"
      },
      "execution_count": 67,
      "outputs": [
        {
          "output_type": "execute_result",
          "data": {
            "text/plain": [
              "array([1.        , 1.41421356, 1.73205081, 2.        , 2.23606798,\n",
              "       2.44948974, 2.64575131, 2.82842712, 3.        , 3.16227766])"
            ]
          },
          "metadata": {},
          "execution_count": 67
        }
      ]
    },
    {
      "cell_type": "markdown",
      "source": [
        "**Broadcasting**\n",
        "\n",
        "The term broadcasting describes how numpy treats arrays with different shapes during arithmetic operations.Subject to certain constraints,smaller array is broadcast across larger array so that they have compatible shapes."
      ],
      "metadata": {
        "id": "Ccx94-T7As3r"
      }
    },
    {
      "cell_type": "code",
      "source": [
        "a=np.arange(1,10).reshape(3,3)\n",
        "a"
      ],
      "metadata": {
        "id": "nqcLgKpkAnIB",
        "colab": {
          "base_uri": "https://localhost:8080/"
        },
        "outputId": "3b2c4c47-9990-4448-9fec-680488f227d5"
      },
      "execution_count": 68,
      "outputs": [
        {
          "output_type": "execute_result",
          "data": {
            "text/plain": [
              "array([[1, 2, 3],\n",
              "       [4, 5, 6],\n",
              "       [7, 8, 9]])"
            ]
          },
          "metadata": {},
          "execution_count": 68
        }
      ]
    },
    {
      "cell_type": "code",
      "source": [
        "b=np.arange(1,4)\n",
        "b"
      ],
      "metadata": {
        "colab": {
          "base_uri": "https://localhost:8080/"
        },
        "id": "p5gpPR-PEAb_",
        "outputId": "1204ff42-0153-4c7c-a375-b0c7f62814db"
      },
      "execution_count": 69,
      "outputs": [
        {
          "output_type": "execute_result",
          "data": {
            "text/plain": [
              "array([1, 2, 3])"
            ]
          },
          "metadata": {},
          "execution_count": 69
        }
      ]
    },
    {
      "cell_type": "code",
      "source": [
        "print(a+b)\n",
        "#Now this was possible as both Arrays were compatible.First one is 3x3 and second one 1x3\n",
        "#,so numpy for compatibility checks last 3 and does the required operations no of times multiple for first 1&3 so thrice"
      ],
      "metadata": {
        "colab": {
          "base_uri": "https://localhost:8080/"
        },
        "id": "Qgt-V92IEJ-8",
        "outputId": "7a266729-bb4a-482c-cf11-4042a769db97"
      },
      "execution_count": 70,
      "outputs": [
        {
          "output_type": "stream",
          "name": "stdout",
          "text": [
            "[[ 2  4  6]\n",
            " [ 5  7  9]\n",
            " [ 8 10 12]]\n"
          ]
        }
      ]
    },
    {
      "cell_type": "code",
      "source": [
        "c=np.arange(1,3)\n",
        "#print(a+c)\n",
        "#ValueError: operands could not be broadcast together with shapes (3,3) (2,)"
      ],
      "metadata": {
        "id": "x2giGkeLERJU"
      },
      "execution_count": 71,
      "outputs": []
    },
    {
      "cell_type": "code",
      "source": [
        "d=np.arange(24).reshape(2,3,4)\n",
        "d"
      ],
      "metadata": {
        "colab": {
          "base_uri": "https://localhost:8080/"
        },
        "id": "mjJutDYWEwVZ",
        "outputId": "c72d338a-24d5-4d9c-f511-9a93ac9eb3e2"
      },
      "execution_count": 72,
      "outputs": [
        {
          "output_type": "execute_result",
          "data": {
            "text/plain": [
              "array([[[ 0,  1,  2,  3],\n",
              "        [ 4,  5,  6,  7],\n",
              "        [ 8,  9, 10, 11]],\n",
              "\n",
              "       [[12, 13, 14, 15],\n",
              "        [16, 17, 18, 19],\n",
              "        [20, 21, 22, 23]]])"
            ]
          },
          "metadata": {},
          "execution_count": 72
        }
      ]
    },
    {
      "cell_type": "code",
      "source": [
        "e=np.arange(4)\n",
        "e"
      ],
      "metadata": {
        "colab": {
          "base_uri": "https://localhost:8080/"
        },
        "id": "IWj_Jp3TFMJc",
        "outputId": "0e372f56-94da-445f-a949-f0abcd9c6c02"
      },
      "execution_count": 73,
      "outputs": [
        {
          "output_type": "execute_result",
          "data": {
            "text/plain": [
              "array([0, 1, 2, 3])"
            ]
          },
          "metadata": {},
          "execution_count": 73
        }
      ]
    },
    {
      "cell_type": "code",
      "source": [
        "d-e"
      ],
      "metadata": {
        "colab": {
          "base_uri": "https://localhost:8080/"
        },
        "id": "o0DzT7oEFTXl",
        "outputId": "fd1c9866-85de-4aa9-f6ce-b704714dedf6"
      },
      "execution_count": 74,
      "outputs": [
        {
          "output_type": "execute_result",
          "data": {
            "text/plain": [
              "array([[[ 0,  0,  0,  0],\n",
              "        [ 4,  4,  4,  4],\n",
              "        [ 8,  8,  8,  8]],\n",
              "\n",
              "       [[12, 12, 12, 12],\n",
              "        [16, 16, 16, 16],\n",
              "        [20, 20, 20, 20]]])"
            ]
          },
          "metadata": {},
          "execution_count": 74
        }
      ]
    },
    {
      "cell_type": "markdown",
      "source": [
        "**Aggregate Functions**\n"
      ],
      "metadata": {
        "id": "H2i96VsqFn6r"
      }
    },
    {
      "cell_type": "code",
      "source": [
        "arr_1=np.arange(10,110,10)\n",
        "arr_1\n"
      ],
      "metadata": {
        "colab": {
          "base_uri": "https://localhost:8080/"
        },
        "id": "yrlmJt1uFr56",
        "outputId": "c7cf2fe7-5d61-4b9c-dd31-8f34fec52423"
      },
      "execution_count": 75,
      "outputs": [
        {
          "output_type": "execute_result",
          "data": {
            "text/plain": [
              "array([ 10,  20,  30,  40,  50,  60,  70,  80,  90, 100])"
            ]
          },
          "metadata": {},
          "execution_count": 75
        }
      ]
    },
    {
      "cell_type": "code",
      "source": [
        "arr_2=np.arange(10,110,10).reshape(2,5)\n",
        "arr_2"
      ],
      "metadata": {
        "colab": {
          "base_uri": "https://localhost:8080/"
        },
        "id": "X2xzJYFjGJVm",
        "outputId": "f61c7bf4-25e8-4859-9034-b9eaa3bfba75"
      },
      "execution_count": 76,
      "outputs": [
        {
          "output_type": "execute_result",
          "data": {
            "text/plain": [
              "array([[ 10,  20,  30,  40,  50],\n",
              "       [ 60,  70,  80,  90, 100]])"
            ]
          },
          "metadata": {},
          "execution_count": 76
        }
      ]
    },
    {
      "cell_type": "code",
      "source": [
        "arr_3=np.arange(10,130,10).reshape(4,3)\n",
        "arr_3"
      ],
      "metadata": {
        "colab": {
          "base_uri": "https://localhost:8080/"
        },
        "id": "wtFNXhnlGTsY",
        "outputId": "7261c688-bade-4569-b08b-602c2def20b6"
      },
      "execution_count": 77,
      "outputs": [
        {
          "output_type": "execute_result",
          "data": {
            "text/plain": [
              "array([[ 10,  20,  30],\n",
              "       [ 40,  50,  60],\n",
              "       [ 70,  80,  90],\n",
              "       [100, 110, 120]])"
            ]
          },
          "metadata": {},
          "execution_count": 77
        }
      ]
    },
    {
      "cell_type": "code",
      "source": [
        "#Aggregate Func - sum()\n",
        "print(arr_1.sum())\n",
        "print(arr_2.sum())\n",
        "print(arr_3.sum())"
      ],
      "metadata": {
        "colab": {
          "base_uri": "https://localhost:8080/"
        },
        "id": "01K6GsfHGeLA",
        "outputId": "660d4e71-2508-44ae-b062-feb974dee1ed"
      },
      "execution_count": 78,
      "outputs": [
        {
          "output_type": "stream",
          "name": "stdout",
          "text": [
            "550\n",
            "550\n",
            "780\n"
          ]
        }
      ]
    },
    {
      "cell_type": "code",
      "source": [
        "#Columnwise Sum\n",
        "print(arr_3.sum(axis=0))\n",
        "\n",
        "#Rowise Sum\n",
        "print(arr_3.sum(axis=1))"
      ],
      "metadata": {
        "colab": {
          "base_uri": "https://localhost:8080/"
        },
        "id": "E2_zwGIzGrHq",
        "outputId": "9ed4a093-303e-4106-bc25-60daa1fd9d4e"
      },
      "execution_count": 79,
      "outputs": [
        {
          "output_type": "stream",
          "name": "stdout",
          "text": [
            "[220 260 300]\n",
            "[ 60 150 240 330]\n"
          ]
        }
      ]
    },
    {
      "cell_type": "code",
      "source": [
        "#Aggregate Func - prod()\n",
        "arr_1.prod()"
      ],
      "metadata": {
        "colab": {
          "base_uri": "https://localhost:8080/"
        },
        "id": "0_UbJNZ9HC2E",
        "outputId": "e443c6c5-4fbd-45fb-ac85-47999f458625"
      },
      "execution_count": 80,
      "outputs": [
        {
          "output_type": "execute_result",
          "data": {
            "text/plain": [
              "36288000000000000"
            ]
          },
          "metadata": {},
          "execution_count": 80
        }
      ]
    },
    {
      "cell_type": "code",
      "source": [
        "#Columnwise product\n",
        "print(arr_2.prod(axis=0))\n",
        "#Rowise product\n",
        "print(arr_2.prod(axis=1))"
      ],
      "metadata": {
        "colab": {
          "base_uri": "https://localhost:8080/"
        },
        "id": "XKVrwHXNHdmR",
        "outputId": "38465169-4594-45a7-ee8d-9b2e3a5c760e"
      },
      "execution_count": 81,
      "outputs": [
        {
          "output_type": "stream",
          "name": "stdout",
          "text": [
            "[ 600 1400 2400 3600 5000]\n",
            "[  12000000 3024000000]\n"
          ]
        }
      ]
    },
    {
      "cell_type": "code",
      "source": [
        "#Aggregate Func - avg,min,max,min,std\n",
        "\n",
        "print(\"Average of elements in array 1 is :\",np.average(arr_1))\n",
        "print(\"Mean elements in array 1 is :\",np.mean(arr_1))\n",
        "print(\"Max of elements in array 1 is :\",np.max(arr_1))\n",
        "print(\"Min of elements in array 1 is :\",np.min(arr_1))\n",
        "print(\"Standard Deviation of elements in array 1 is :\",np.std(arr_1))\n"
      ],
      "metadata": {
        "colab": {
          "base_uri": "https://localhost:8080/"
        },
        "id": "ZICnXrWhHo4k",
        "outputId": "b6372056-5eac-43f1-e0d2-ac16f198f033"
      },
      "execution_count": 82,
      "outputs": [
        {
          "output_type": "stream",
          "name": "stdout",
          "text": [
            "Average of elements in array 1 is : 55.0\n",
            "Mean elements in array 1 is : 55.0\n",
            "Max of elements in array 1 is : 100\n",
            "Min of elements in array 1 is : 10\n",
            "Standard Deviation of elements in array 1 is : 28.722813232690143\n"
          ]
        }
      ]
    },
    {
      "cell_type": "markdown",
      "source": [
        "**Unique Items & Counts**"
      ],
      "metadata": {
        "id": "UdW2R_1LI8v7"
      }
    },
    {
      "cell_type": "code",
      "source": [
        "first_arr=np.array([1,2,3,4,5,6,1,2,7,2,1,10,7,8])\n",
        "first_arr"
      ],
      "metadata": {
        "colab": {
          "base_uri": "https://localhost:8080/"
        },
        "id": "6EgFeT_WIHu_",
        "outputId": "53b11666-2ec1-418f-e9c4-096b4beddd81"
      },
      "execution_count": 83,
      "outputs": [
        {
          "output_type": "execute_result",
          "data": {
            "text/plain": [
              "array([ 1,  2,  3,  4,  5,  6,  1,  2,  7,  2,  1, 10,  7,  8])"
            ]
          },
          "metadata": {},
          "execution_count": 83
        }
      ]
    },
    {
      "cell_type": "code",
      "source": [
        "np.unique(first_arr)"
      ],
      "metadata": {
        "colab": {
          "base_uri": "https://localhost:8080/"
        },
        "id": "t1OJYBz5JeUg",
        "outputId": "d2da623d-3ad7-449f-d971-10ef546fde90"
      },
      "execution_count": 84,
      "outputs": [
        {
          "output_type": "execute_result",
          "data": {
            "text/plain": [
              "array([ 1,  2,  3,  4,  5,  6,  7,  8, 10])"
            ]
          },
          "metadata": {},
          "execution_count": 84
        }
      ]
    },
    {
      "cell_type": "code",
      "source": [
        "second_arr=np.array([[1, 1, 2,1] ,[ 3, 1, 2,1] , [1, 1, 2, 1], [ 7, 1, 1, 1]])\n",
        "second_arr\n"
      ],
      "metadata": {
        "colab": {
          "base_uri": "https://localhost:8080/"
        },
        "id": "T587fjMsJhI1",
        "outputId": "566ee95f-b458-4a0f-b3c6-6cf8d0ea7d8d"
      },
      "execution_count": 85,
      "outputs": [
        {
          "output_type": "execute_result",
          "data": {
            "text/plain": [
              "array([[1, 1, 2, 1],\n",
              "       [3, 1, 2, 1],\n",
              "       [1, 1, 2, 1],\n",
              "       [7, 1, 1, 1]])"
            ]
          },
          "metadata": {},
          "execution_count": 85
        }
      ]
    },
    {
      "cell_type": "code",
      "source": [
        "np.unique(second_arr)"
      ],
      "metadata": {
        "colab": {
          "base_uri": "https://localhost:8080/"
        },
        "id": "y7i8kNAKJ2Ee",
        "outputId": "83d33f06-1b11-46bb-c92d-1617267522d4"
      },
      "execution_count": 86,
      "outputs": [
        {
          "output_type": "execute_result",
          "data": {
            "text/plain": [
              "array([1, 2, 3, 7])"
            ]
          },
          "metadata": {},
          "execution_count": 86
        }
      ]
    },
    {
      "cell_type": "code",
      "source": [
        "np.unique(second_arr,axis=0)\n",
        "#Removes duplicate row if any"
      ],
      "metadata": {
        "colab": {
          "base_uri": "https://localhost:8080/"
        },
        "id": "koSgThTBJ5qF",
        "outputId": "ac76aa59-27f6-4a44-e0cc-ddf4144fcbf3"
      },
      "execution_count": 87,
      "outputs": [
        {
          "output_type": "execute_result",
          "data": {
            "text/plain": [
              "array([[1, 1, 2, 1],\n",
              "       [3, 1, 2, 1],\n",
              "       [7, 1, 1, 1]])"
            ]
          },
          "metadata": {},
          "execution_count": 87
        }
      ]
    },
    {
      "cell_type": "code",
      "source": [
        "np.unique(second_arr,axis=1)\n",
        "#Removes duplicate column if any"
      ],
      "metadata": {
        "colab": {
          "base_uri": "https://localhost:8080/"
        },
        "id": "fOPMKKuhKL3n",
        "outputId": "a6057fb7-65c8-420f-f2de-80678d8cb3cd"
      },
      "execution_count": 88,
      "outputs": [
        {
          "output_type": "execute_result",
          "data": {
            "text/plain": [
              "array([[1, 1, 2],\n",
              "       [1, 3, 2],\n",
              "       [1, 1, 2],\n",
              "       [1, 7, 1]])"
            ]
          },
          "metadata": {},
          "execution_count": 88
        }
      ]
    },
    {
      "cell_type": "code",
      "source": [
        "np.unique(first_arr,return_index= True)"
      ],
      "metadata": {
        "colab": {
          "base_uri": "https://localhost:8080/"
        },
        "id": "n5wZWQhtKW46",
        "outputId": "34f9f15b-1b76-417e-9b48-2e8aa560b861"
      },
      "execution_count": 89,
      "outputs": [
        {
          "output_type": "execute_result",
          "data": {
            "text/plain": [
              "(array([ 1,  2,  3,  4,  5,  6,  7,  8, 10]),\n",
              " array([ 0,  1,  2,  3,  4,  5,  8, 13, 11]))"
            ]
          },
          "metadata": {},
          "execution_count": 89
        }
      ]
    },
    {
      "cell_type": "code",
      "source": [
        "np.unique(second_arr,return_counts=True)"
      ],
      "metadata": {
        "colab": {
          "base_uri": "https://localhost:8080/"
        },
        "id": "POkL1cbyKca7",
        "outputId": "2a1e6392-4105-4807-9f22-895c1d99bef4"
      },
      "execution_count": 90,
      "outputs": [
        {
          "output_type": "execute_result",
          "data": {
            "text/plain": [
              "(array([1, 2, 3, 7]), array([11,  3,  1,  1]))"
            ]
          },
          "metadata": {},
          "execution_count": 90
        }
      ]
    },
    {
      "cell_type": "code",
      "source": [],
      "metadata": {
        "id": "eg77kwSGKecF"
      },
      "execution_count": 90,
      "outputs": []
    }
  ]
}