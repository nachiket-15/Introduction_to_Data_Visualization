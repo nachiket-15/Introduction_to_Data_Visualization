{
  "nbformat": 4,
  "nbformat_minor": 0,
  "metadata": {
    "colab": {
      "provenance": [],
      "authorship_tag": "ABX9TyMJN9jQIrWq96Wjvd1XeIAT",
      "include_colab_link": true
    },
    "kernelspec": {
      "name": "python3",
      "display_name": "Python 3"
    },
    "language_info": {
      "name": "python"
    }
  },
  "cells": [
    {
      "cell_type": "markdown",
      "metadata": {
        "id": "view-in-github",
        "colab_type": "text"
      },
      "source": [
        "<a href=\"https://colab.research.google.com/github/nachiket-15/Introduction_to_Data_Visualization/blob/main/numpy_linkedlearning_1.ipynb\" target=\"_parent\"><img src=\"https://colab.research.google.com/assets/colab-badge.svg\" alt=\"Open In Colab\"/></a>"
      ]
    },
    {
      "cell_type": "markdown",
      "source": [
        "# **Numpy Essential Training**"
      ],
      "metadata": {
        "id": "Kz-9IIOCWHxP"
      }
    },
    {
      "cell_type": "markdown",
      "source": [
        "**What is Numpy ?**\n",
        "\n",
        "*NumPy (Numerical Python) is a powerful library in python which is used extensively for numerical and mathematical calculations*\n",
        "\n",
        "**Applications**\n",
        "\n",
        "*1.Multidimensional Arrays: NumPy provides a numpy.ndarray object, which is a multi-dimensional array. These arrays can be used to represent matrices, tensors, or any other multi-dimensional data structures.*\n",
        "\n",
        "*2.Mathematical Operations: NumPy allows you to perform element-wise operations on arrays, making it easy to apply mathematical functions to entire datasets without the need for explicit loops.*\n",
        "\n",
        "*3.Linear Algebra: NumPy provides a set of functions for linear algebra operations, such as matrix multiplication, inversion, determinant calculation, and more.*\n",
        "\n",
        "*4.Broadcasting: NumPy supports broadcasting, which is a powerful mechanism that allows NumPy to work with arrays of different shapes and sizes during arithmetic operations.*\n",
        "\n",
        "*5.Data Analysis and Manipulation: NumPy is often used in combination with other libraries like Pandas for data analysis and manipulation. It provides a foundation for working with numerical data efficiently.*\n"
      ],
      "metadata": {
        "id": "0tFBmeJXWSi9"
      }
    },
    {
      "cell_type": "code",
      "source": [
        "import numpy as np"
      ],
      "metadata": {
        "id": "ijRod83eWQax"
      },
      "execution_count": 124,
      "outputs": []
    },
    {
      "cell_type": "code",
      "source": [
        "list=[1,2,3,4,5,6,7]\n",
        "arr=np.array(list)\n",
        "print(arr)\n",
        "\n",
        "arr=np.array([6,7,8,9,10,11,12])\n",
        "print(arr)"
      ],
      "metadata": {
        "colab": {
          "base_uri": "https://localhost:8080/"
        },
        "id": "V_B-EGpIKK5d",
        "outputId": "0e633d5f-7bc9-493e-ca4b-c6715541ddc0"
      },
      "execution_count": 125,
      "outputs": [
        {
          "output_type": "stream",
          "name": "stdout",
          "text": [
            "[1 2 3 4 5 6 7]\n",
            "[ 6  7  8  9 10 11 12]\n"
          ]
        }
      ]
    },
    {
      "cell_type": "code",
      "source": [
        "#Third parameter is step/diff\n",
        "arr1=np.arange(1,10,2)\n",
        "print(arr1)"
      ],
      "metadata": {
        "colab": {
          "base_uri": "https://localhost:8080/"
        },
        "id": "boxOWQT6RUDi",
        "outputId": "cbfac02b-859e-46c1-f8e6-2a83dc4b9c8e"
      },
      "execution_count": 126,
      "outputs": [
        {
          "output_type": "stream",
          "name": "stdout",
          "text": [
            "[1 3 5 7 9]\n"
          ]
        }
      ]
    },
    {
      "cell_type": "code",
      "source": [
        "#Third parameter is no of elements\n",
        "arr2=np.linspace(1,10,5)\n",
        "print(arr2)"
      ],
      "metadata": {
        "colab": {
          "base_uri": "https://localhost:8080/"
        },
        "id": "zhwTGzB-Rju-",
        "outputId": "a01eacc5-29ff-4274-89cf-af28ed774cbd"
      },
      "execution_count": 127,
      "outputs": [
        {
          "output_type": "stream",
          "name": "stdout",
          "text": [
            "[ 1.    3.25  5.5   7.75 10.  ]\n"
          ]
        }
      ]
    },
    {
      "cell_type": "code",
      "source": [
        "print(arr2.dtype)\n",
        "print(arr1.dtype)\n"
      ],
      "metadata": {
        "colab": {
          "base_uri": "https://localhost:8080/"
        },
        "id": "Lpd-x7LhFfSs",
        "outputId": "17879052-5744-47df-d0b3-ddb93fbee100"
      },
      "execution_count": 128,
      "outputs": [
        {
          "output_type": "stream",
          "name": "stdout",
          "text": [
            "float64\n",
            "int64\n"
          ]
        }
      ]
    },
    {
      "cell_type": "code",
      "source": [
        "arr3=np.random.rand(10)\n",
        "print(arr3)"
      ],
      "metadata": {
        "colab": {
          "base_uri": "https://localhost:8080/"
        },
        "id": "Sp2WmHYnRgxy",
        "outputId": "1421c24d-6053-408c-b0b5-1b73861b1c0e"
      },
      "execution_count": 129,
      "outputs": [
        {
          "output_type": "stream",
          "name": "stdout",
          "text": [
            "[0.17496939 0.46274813 0.51809021 0.31743919 0.88264891 0.33033803\n",
            " 0.3074742  0.61351639 0.23764171 0.67262717]\n"
          ]
        }
      ]
    },
    {
      "cell_type": "code",
      "source": [
        "arr4=np.random.rand(4,4)\n",
        "print(arr4)"
      ],
      "metadata": {
        "colab": {
          "base_uri": "https://localhost:8080/"
        },
        "id": "FaseINrVSD-j",
        "outputId": "5945fe9b-5eba-4e98-aec6-4c6dc0a90c7d"
      },
      "execution_count": 130,
      "outputs": [
        {
          "output_type": "stream",
          "name": "stdout",
          "text": [
            "[[0.08176823 0.79288732 0.5619335  0.27929982]\n",
            " [0.67094795 0.78110033 0.68681019 0.46240759]\n",
            " [0.92517395 0.35808231 0.77741022 0.55407757]\n",
            " [0.08055184 0.24876356 0.668825   0.36835183]]\n"
          ]
        }
      ]
    },
    {
      "cell_type": "code",
      "source": [
        "arr5=np.random.randint(1,100,25)\n",
        "print(arr5)"
      ],
      "metadata": {
        "colab": {
          "base_uri": "https://localhost:8080/"
        },
        "id": "dIC5877USJHT",
        "outputId": "8ecd8025-b17d-49c3-c55c-307bb5c8a1ae"
      },
      "execution_count": 131,
      "outputs": [
        {
          "output_type": "stream",
          "name": "stdout",
          "text": [
            "[12 79 38 59 95 35 12 84 77 54 70 33 60 68  8  4 12 64 55  2 59 68 77 28\n",
            " 54]\n"
          ]
        }
      ]
    },
    {
      "cell_type": "code",
      "source": [
        "arr5"
      ],
      "metadata": {
        "colab": {
          "base_uri": "https://localhost:8080/"
        },
        "id": "jz7y8aTCF25S",
        "outputId": "4c13cc80-cd13-48d7-dae5-59e457701411"
      },
      "execution_count": 132,
      "outputs": [
        {
          "output_type": "execute_result",
          "data": {
            "text/plain": [
              "array([12, 79, 38, 59, 95, 35, 12, 84, 77, 54, 70, 33, 60, 68,  8,  4, 12,\n",
              "       64, 55,  2, 59, 68, 77, 28, 54])"
            ]
          },
          "metadata": {},
          "execution_count": 132
        }
      ]
    },
    {
      "cell_type": "code",
      "source": [
        "arr6=np.zeros(6)\n",
        "print(arr6)"
      ],
      "metadata": {
        "colab": {
          "base_uri": "https://localhost:8080/"
        },
        "id": "VILdGBqySv6Q",
        "outputId": "654d9abf-62c5-44f6-d0b0-83be39426bce"
      },
      "execution_count": 133,
      "outputs": [
        {
          "output_type": "stream",
          "name": "stdout",
          "text": [
            "[0. 0. 0. 0. 0. 0.]\n"
          ]
        }
      ]
    },
    {
      "cell_type": "code",
      "source": [
        "print(arr5.shape)\n",
        "print(arr5.ndim)\n",
        "print(arr4.shape)\n",
        "print(arr4.ndim)"
      ],
      "metadata": {
        "colab": {
          "base_uri": "https://localhost:8080/"
        },
        "id": "sV-4jbxgGArK",
        "outputId": "4e7f61a5-58e9-4df6-ed5b-c3101103966a"
      },
      "execution_count": 134,
      "outputs": [
        {
          "output_type": "stream",
          "name": "stdout",
          "text": [
            "(25,)\n",
            "1\n",
            "(4, 4)\n",
            "2\n"
          ]
        }
      ]
    },
    {
      "cell_type": "code",
      "source": [
        "arr7=np.zeros((4,4),dtype=int)\n",
        "print(arr7)"
      ],
      "metadata": {
        "colab": {
          "base_uri": "https://localhost:8080/"
        },
        "id": "7dkXTw9uS_uA",
        "outputId": "00119fb9-7dcb-46e5-e89e-f47063488c60"
      },
      "execution_count": 135,
      "outputs": [
        {
          "output_type": "stream",
          "name": "stdout",
          "text": [
            "[[0 0 0 0]\n",
            " [0 0 0 0]\n",
            " [0 0 0 0]\n",
            " [0 0 0 0]]\n"
          ]
        }
      ]
    },
    {
      "cell_type": "code",
      "source": [
        "arr8=np.ones(5,dtype=int)\n",
        "print(arr8)"
      ],
      "metadata": {
        "colab": {
          "base_uri": "https://localhost:8080/"
        },
        "id": "LspN-LCyTDyI",
        "outputId": "40def7ed-6fcd-49d2-c90f-db623ee1561d"
      },
      "execution_count": 136,
      "outputs": [
        {
          "output_type": "stream",
          "name": "stdout",
          "text": [
            "[1 1 1 1 1]\n"
          ]
        }
      ]
    },
    {
      "cell_type": "code",
      "source": [
        "arr9=np.ones((5,5),dtype=int)\n",
        "print(arr9)"
      ],
      "metadata": {
        "colab": {
          "base_uri": "https://localhost:8080/"
        },
        "id": "RHKXyzXYT2Io",
        "outputId": "144d4c3e-21b0-46d4-dc85-f9d07580a6f4"
      },
      "execution_count": 137,
      "outputs": [
        {
          "output_type": "stream",
          "name": "stdout",
          "text": [
            "[[1 1 1 1 1]\n",
            " [1 1 1 1 1]\n",
            " [1 1 1 1 1]\n",
            " [1 1 1 1 1]\n",
            " [1 1 1 1 1]]\n"
          ]
        }
      ]
    },
    {
      "cell_type": "code",
      "source": [
        "arr10=np.empty(6)\n",
        "print(arr10)\n",
        "arr10.fill(10)\n",
        "print(arr10)"
      ],
      "metadata": {
        "colab": {
          "base_uri": "https://localhost:8080/"
        },
        "id": "yA6iSx96T6EI",
        "outputId": "9360411d-5326-48f0-ec38-3caf821005eb"
      },
      "execution_count": 138,
      "outputs": [
        {
          "output_type": "stream",
          "name": "stdout",
          "text": [
            "[0. 0. 0. 0. 0. 0.]\n",
            "[10. 10. 10. 10. 10. 10.]\n"
          ]
        }
      ]
    },
    {
      "cell_type": "code",
      "source": [
        "arr11=np.full(7,10)\n",
        "print(arr11)"
      ],
      "metadata": {
        "colab": {
          "base_uri": "https://localhost:8080/"
        },
        "id": "zjiW_cfQUh62",
        "outputId": "52fe79eb-58fb-4245-dcc4-44b9ad2f274a"
      },
      "execution_count": 139,
      "outputs": [
        {
          "output_type": "stream",
          "name": "stdout",
          "text": [
            "[10 10 10 10 10 10 10]\n"
          ]
        }
      ]
    },
    {
      "cell_type": "code",
      "source": [
        "arr12=np.linspace((1,2),(10,20),10)\n",
        "print(arr12)\n"
      ],
      "metadata": {
        "colab": {
          "base_uri": "https://localhost:8080/"
        },
        "id": "tbH_i7vGUt_U",
        "outputId": "b3bdd5b0-292b-4ed8-a573-2966e988d2a9"
      },
      "execution_count": 140,
      "outputs": [
        {
          "output_type": "stream",
          "name": "stdout",
          "text": [
            "[[ 1.  2.]\n",
            " [ 2.  4.]\n",
            " [ 3.  6.]\n",
            " [ 4.  8.]\n",
            " [ 5. 10.]\n",
            " [ 6. 12.]\n",
            " [ 7. 14.]\n",
            " [ 8. 16.]\n",
            " [ 9. 18.]\n",
            " [10. 20.]]\n"
          ]
        }
      ]
    },
    {
      "cell_type": "code",
      "source": [
        "arr13=np.full((2,2,2),10)#tensor is a 3d array\n",
        "print(arr13)\n"
      ],
      "metadata": {
        "colab": {
          "base_uri": "https://localhost:8080/"
        },
        "id": "7KQ1O62JWM5k",
        "outputId": "5271b965-f740-453f-fa0c-234e389b85a6"
      },
      "execution_count": 141,
      "outputs": [
        {
          "output_type": "stream",
          "name": "stdout",
          "text": [
            "[[[10 10]\n",
            "  [10 10]]\n",
            "\n",
            " [[10 10]\n",
            "  [10 10]]]\n"
          ]
        }
      ]
    },
    {
      "cell_type": "code",
      "source": [
        "print(arr12.shape)\n",
        "print(arr13.shape)\n",
        "print(arr12.size)\n",
        "print(arr13.size)\n",
        "print(arr13.ndim)"
      ],
      "metadata": {
        "colab": {
          "base_uri": "https://localhost:8080/"
        },
        "id": "Le9UDDiBWWXZ",
        "outputId": "fcb5b347-dd2a-4542-891d-5863d1ecdff0"
      },
      "execution_count": 142,
      "outputs": [
        {
          "output_type": "stream",
          "name": "stdout",
          "text": [
            "(10, 2)\n",
            "(2, 2, 2)\n",
            "20\n",
            "8\n",
            "3\n"
          ]
        }
      ]
    },
    {
      "cell_type": "code",
      "source": [
        "\n",
        "first_list=[1,2,3,4,5,6,7,8,9,10]\n",
        "first_array=np.array(first_list)\n",
        "print(first_array)\n",
        "\n",
        "second_list=[1,2,3,-1.23,50,128000.56,4.56]\n",
        "second_array=np.array(second_list)\n",
        "print(second_array)\n",
        "#print(second_array.dtype)\n",
        "\n",
        "third_list=['Ann',111111,'Peter',111112,'Susan',111113,'John',111114]\n",
        "third_array=np.array(third_list)\n",
        "print(third_array)\n",
        "\n",
        "\n"
      ],
      "metadata": {
        "id": "_XqBYlmWYA69",
        "colab": {
          "base_uri": "https://localhost:8080/"
        },
        "outputId": "8749d226-9778-4100-cf3f-a81e0dc774e9"
      },
      "execution_count": 143,
      "outputs": [
        {
          "output_type": "stream",
          "name": "stdout",
          "text": [
            "[ 1  2  3  4  5  6  7  8  9 10]\n",
            "[ 1.0000000e+00  2.0000000e+00  3.0000000e+00 -1.2300000e+00\n",
            "  5.0000000e+01  1.2800056e+05  4.5600000e+00]\n",
            "['Ann' '111111' 'Peter' '111112' 'Susan' '111113' 'John' '111114']\n"
          ]
        }
      ]
    },
    {
      "cell_type": "code",
      "source": [
        "first_tuple=(5, 10, 15, 20, 25, 30)\n",
        "array_from_tuple=np.array(first_tuple)\n",
        "print(array_from_tuple)\n",
        "\n",
        "print(\"\\nTensor\")\n",
        "multi_dim_list=[[[0,1,2], [3,4,5]], [[6,7,8],[9,10,11]]]\n",
        "arr_from_multi_dim_list=np.array(multi_dim_list)\n",
        "print(arr_from_multi_dim_list)"
      ],
      "metadata": {
        "colab": {
          "base_uri": "https://localhost:8080/"
        },
        "id": "iaoUHLRJHahO",
        "outputId": "bec1cae0-259b-4bf1-af48-af76a55140da"
      },
      "execution_count": 144,
      "outputs": [
        {
          "output_type": "stream",
          "name": "stdout",
          "text": [
            "[ 5 10 15 20 25 30]\n",
            "\n",
            "Tensor\n",
            "[[[ 0  1  2]\n",
            "  [ 3  4  5]]\n",
            "\n",
            " [[ 6  7  8]\n",
            "  [ 9 10 11]]]\n"
          ]
        }
      ]
    },
    {
      "cell_type": "markdown",
      "source": [
        "Adding , Removing & Sorting Elements"
      ],
      "metadata": {
        "id": "hU4BAJuPILH7"
      }
    },
    {
      "cell_type": "code",
      "source": [
        "first_arr=np.array([1, 2, 3, 5])\n",
        "print(first_arr)\n",
        "\n",
        "new_first_arr=np.insert(first_arr,3,4)\n",
        "print(new_first_arr)"
      ],
      "metadata": {
        "colab": {
          "base_uri": "https://localhost:8080/"
        },
        "id": "soOOZzNIHrp-",
        "outputId": "2d1abe8f-110a-41c3-a251-767548cc7524"
      },
      "execution_count": 145,
      "outputs": [
        {
          "output_type": "stream",
          "name": "stdout",
          "text": [
            "[1 2 3 5]\n",
            "[1 2 3 4 5]\n"
          ]
        }
      ]
    },
    {
      "cell_type": "code",
      "source": [
        "second_arr=np.array([1,2,3,4])\n",
        "print(second_arr)\n",
        "\n",
        "new_second_arr=np.append(second_arr,5)\n",
        "print(new_second_arr)"
      ],
      "metadata": {
        "colab": {
          "base_uri": "https://localhost:8080/"
        },
        "id": "JijlKhS4Ikkq",
        "outputId": "5cece67a-8d83-4110-fa4a-d9c90fcb9c29"
      },
      "execution_count": 146,
      "outputs": [
        {
          "output_type": "stream",
          "name": "stdout",
          "text": [
            "[1 2 3 4]\n",
            "[1 2 3 4 5]\n"
          ]
        }
      ]
    },
    {
      "cell_type": "code",
      "source": [
        "third_arr=np.array([1,2,3,4,5])\n",
        "print(third_arr)\n",
        "\n",
        "del_arr=np.delete(third_arr,4)\n",
        "print(del_arr)"
      ],
      "metadata": {
        "colab": {
          "base_uri": "https://localhost:8080/"
        },
        "id": "qYSSuObrIupV",
        "outputId": "7f61131a-1fc5-4d4b-abf2-2f6300784129"
      },
      "execution_count": 147,
      "outputs": [
        {
          "output_type": "stream",
          "name": "stdout",
          "text": [
            "[1 2 3 4 5]\n",
            "[1 2 3 4]\n"
          ]
        }
      ]
    },
    {
      "cell_type": "code",
      "source": [
        "integers_arr=np.random.randint(0,20,20)\n",
        "print(integers_arr)\n",
        "print(np.sort(integers_arr))\n",
        "\n",
        "print(\"\\n\")\n",
        "\n",
        "integers_2dim_arr=np.array([[3, 2, 5,7, 4], [5, 0, 8,3, 1]])\n",
        "print(integers_2dim_arr)\n",
        "print(np.sort(integers_2dim_arr))"
      ],
      "metadata": {
        "colab": {
          "base_uri": "https://localhost:8080/"
        },
        "id": "2TJgfOrXI1yw",
        "outputId": "f1ac46b9-2c61-4e4b-bb18-0ae08858a7b2"
      },
      "execution_count": 148,
      "outputs": [
        {
          "output_type": "stream",
          "name": "stdout",
          "text": [
            "[16 15 11  7  6  8 18 18 11 19 18 14  5 13 13 17  7 17 11 19]\n",
            "[ 5  6  7  7  8 11 11 11 13 13 14 15 16 17 17 18 18 18 19 19]\n",
            "\n",
            "\n",
            "[[3 2 5 7 4]\n",
            " [5 0 8 3 1]]\n",
            "[[2 3 4 5 7]\n",
            " [0 1 3 5 8]]\n"
          ]
        }
      ]
    },
    {
      "cell_type": "code",
      "source": [
        "colors=np.array(['orange','green','yellow','white','black','pink','blue','red'])\n",
        "print(np.sort(colors))"
      ],
      "metadata": {
        "colab": {
          "base_uri": "https://localhost:8080/"
        },
        "id": "_PKxK41ZI4zz",
        "outputId": "1b72eda6-f744-4229-b8c1-5c27d4d43870"
      },
      "execution_count": 149,
      "outputs": [
        {
          "output_type": "stream",
          "name": "stdout",
          "text": [
            "['black' 'blue' 'green' 'orange' 'pink' 'red' 'white' 'yellow']\n"
          ]
        }
      ]
    },
    {
      "cell_type": "markdown",
      "source": [
        "Copies & Views\n"
      ],
      "metadata": {
        "id": "5s-Y9TaNKlyv"
      }
    },
    {
      "cell_type": "code",
      "source": [
        "#id() is often referred to as address of an object in python\n",
        "students_ids_number=np.array([1111,1212,1313,1414,1515,1616,1717,1818])\n",
        "\n",
        "students_ids_number_reg=students_ids_number\n",
        "print(\"id of students_ids_number\",id(students_ids_number))\n",
        "print(\"id of students_ids_number_reg\",id(students_ids_number_reg))"
      ],
      "metadata": {
        "colab": {
          "base_uri": "https://localhost:8080/"
        },
        "id": "DBhWK0r-JiX9",
        "outputId": "c0ade37b-94dc-4445-cbe5-e96d50a3e0c5"
      },
      "execution_count": 150,
      "outputs": [
        {
          "output_type": "stream",
          "name": "stdout",
          "text": [
            "id of students_ids_number 134443456079376\n",
            "id of students_ids_number_reg 134443456079376\n"
          ]
        }
      ]
    },
    {
      "cell_type": "code",
      "source": [
        "students_ids_number_reg[1]=2222\n",
        "print(students_ids_number)\n",
        "print(students_ids_number_reg)"
      ],
      "metadata": {
        "colab": {
          "base_uri": "https://localhost:8080/"
        },
        "id": "nqlNsIXWLCru",
        "outputId": "73df72d2-14dd-4280-cb56-66a9672fb908"
      },
      "execution_count": 151,
      "outputs": [
        {
          "output_type": "stream",
          "name": "stdout",
          "text": [
            "[1111 2222 1313 1414 1515 1616 1717 1818]\n",
            "[1111 2222 1313 1414 1515 1616 1717 1818]\n"
          ]
        }
      ]
    },
    {
      "cell_type": "code",
      "source": [
        "#Creating a copy\n",
        "students_ids_number_cp=students_ids_number.copy()\n",
        "print(students_ids_number_cp)\n",
        "print(students_ids_number_cp==students_ids_number)"
      ],
      "metadata": {
        "colab": {
          "base_uri": "https://localhost:8080/"
        },
        "id": "pE4P4YPSLGFT",
        "outputId": "966f7fcc-9870-47bd-ae07-44a7470d2f8c"
      },
      "execution_count": 152,
      "outputs": [
        {
          "output_type": "stream",
          "name": "stdout",
          "text": [
            "[1111 2222 1313 1414 1515 1616 1717 1818]\n",
            "[ True  True  True  True  True  True  True  True]\n"
          ]
        }
      ]
    },
    {
      "cell_type": "code",
      "source": [
        "print (\"id of students_ids_number\",id(students_ids_number))\n",
        "print(\"id of students_ids_number_cp\",id(students_ids_number_cp))"
      ],
      "metadata": {
        "colab": {
          "base_uri": "https://localhost:8080/"
        },
        "id": "JhXK2R1mLSLK",
        "outputId": "1755ec73-7a1c-41ff-b4b2-921021ba1485"
      },
      "execution_count": 153,
      "outputs": [
        {
          "output_type": "stream",
          "name": "stdout",
          "text": [
            "id of students_ids_number 134443456079376\n",
            "id of students_ids_number_cp 134443460073136\n"
          ]
        }
      ]
    },
    {
      "cell_type": "code",
      "source": [
        "students_ids_number[0]=1000\n",
        "print (\"original: \", students_ids_number)\n",
        "print(\"copy: \",students_ids_number_cp)"
      ],
      "metadata": {
        "colab": {
          "base_uri": "https://localhost:8080/"
        },
        "id": "o0tQGNrPLUMB",
        "outputId": "fbcf09f2-eb54-4da6-92a3-b590302065de"
      },
      "execution_count": 154,
      "outputs": [
        {
          "output_type": "stream",
          "name": "stdout",
          "text": [
            "original:  [1000 2222 1313 1414 1515 1616 1717 1818]\n",
            "copy:  [1111 2222 1313 1414 1515 1616 1717 1818]\n"
          ]
        }
      ]
    },
    {
      "cell_type": "code",
      "source": [
        "students_ids_number_v=students_ids_number.view()\n",
        "\n",
        "students_ids_number_v[0]=2000\n",
        "print(\"original: \", students_ids_number)\n",
        "print(\"view:\",students_ids_number_v)"
      ],
      "metadata": {
        "colab": {
          "base_uri": "https://localhost:8080/"
        },
        "id": "1MRBUpLALXXf",
        "outputId": "6140b23e-1fb9-450d-fdc5-9369c75d2ee5"
      },
      "execution_count": 155,
      "outputs": [
        {
          "output_type": "stream",
          "name": "stdout",
          "text": [
            "original:  [2000 2222 1313 1414 1515 1616 1717 1818]\n",
            "view: [2000 2222 1313 1414 1515 1616 1717 1818]\n"
          ]
        }
      ]
    },
    {
      "cell_type": "code",
      "source": [
        "print(students_ids_number_cp.base)\n",
        "print(students_ids_number_v.base)\n"
      ],
      "metadata": {
        "colab": {
          "base_uri": "https://localhost:8080/"
        },
        "id": "vBA3CGWULiie",
        "outputId": "f59356f5-9d45-4690-a45e-012a03e96db3"
      },
      "execution_count": 156,
      "outputs": [
        {
          "output_type": "stream",
          "name": "stdout",
          "text": [
            "None\n",
            "[2000 2222 1313 1414 1515 1616 1717 1818]\n"
          ]
        }
      ]
    },
    {
      "cell_type": "markdown",
      "source": [
        "Main difference between a copy and a view of an array is that the copy is a new array, and the view is just a view of the original array."
      ],
      "metadata": {
        "id": "4lqTbsFoZrQi"
      }
    },
    {
      "cell_type": "markdown",
      "source": [
        "**Reshaping Arrays**"
      ],
      "metadata": {
        "id": "G-XkVHduabK7"
      }
    },
    {
      "cell_type": "code",
      "source": [
        "shape_array=np.arange(1,13)\n",
        "print(shape_array)\n",
        "\n",
        "print(\"\\n\")\n",
        "nshape_array=np.reshape(shape_array,(6,2))\n",
        "print(nshape_array)\n",
        "print(\"\\n\")\n",
        "\n",
        "nshape_array=np.reshape(shape_array,(4,3))\n",
        "print(nshape_array)\n",
        "\n",
        "print(\"\\n\")\n",
        "\n",
        "nshape_array=np.reshape(shape_array,(3,2,2))\n",
        "print(nshape_array)"
      ],
      "metadata": {
        "colab": {
          "base_uri": "https://localhost:8080/"
        },
        "id": "ojydfuAaLjF1",
        "outputId": "d66dd46a-03dd-4d24-f2fa-70f1bf7e2097"
      },
      "execution_count": 157,
      "outputs": [
        {
          "output_type": "stream",
          "name": "stdout",
          "text": [
            "[ 1  2  3  4  5  6  7  8  9 10 11 12]\n",
            "\n",
            "\n",
            "[[ 1  2]\n",
            " [ 3  4]\n",
            " [ 5  6]\n",
            " [ 7  8]\n",
            " [ 9 10]\n",
            " [11 12]]\n",
            "\n",
            "\n",
            "[[ 1  2  3]\n",
            " [ 4  5  6]\n",
            " [ 7  8  9]\n",
            " [10 11 12]]\n",
            "\n",
            "\n",
            "[[[ 1  2]\n",
            "  [ 3  4]]\n",
            "\n",
            " [[ 5  6]\n",
            "  [ 7  8]]\n",
            "\n",
            " [[ 9 10]\n",
            "  [11 12]]]\n"
          ]
        }
      ]
    },
    {
      "cell_type": "code",
      "source": [
        "#Converting 2D array into 1D using reshape,flatten & ravel\n",
        "\n",
        "sixth_arr=np.array([[1,2],[3,4],[5,6]])\n",
        "print(sixth_arr)\n",
        "print(\"\\n\")\n",
        "\n",
        "seventh_arr_flat=np.reshape(sixth_arr,-1)\n",
        "print(\"array_using_reshape\",seventh_arr_flat)\n",
        "\n",
        "eighth_arr_flat=sixth_arr.flatten()\n",
        "print(\"\\narr_using_flatten:\",eighth_arr_flat)\n",
        "\n",
        "ninth_arr_rav=sixth_arr.ravel()\n",
        "print(\"\\narr_using_ravel:\",ninth_arr_rav)\n",
        "\n",
        "\n",
        "#Reshape refers to chnaging shape of an array w/o changing data\n",
        "#Flattening involves converting multi-dimensional array into one dimension\n",
        "#FLatten returns copy of original array.Modifying flattened array does not changes original array\n",
        "#Ravel returns reference/view of original array . Modifying ravelled array changes original array\n"
      ],
      "metadata": {
        "colab": {
          "base_uri": "https://localhost:8080/"
        },
        "id": "g1OtIxzpbks3",
        "outputId": "14fdcb7f-7960-4e6a-ebc6-42993f78fd61"
      },
      "execution_count": 158,
      "outputs": [
        {
          "output_type": "stream",
          "name": "stdout",
          "text": [
            "[[1 2]\n",
            " [3 4]\n",
            " [5 6]]\n",
            "\n",
            "\n",
            "array_using_reshape [1 2 3 4 5 6]\n",
            "\n",
            "arr_using_flatten: [1 2 3 4 5 6]\n",
            "\n",
            "arr_using_ravel: [1 2 3 4 5 6]\n"
          ]
        }
      ]
    },
    {
      "cell_type": "code",
      "source": [
        "eighth_arr_flat[0]=100\n",
        "print(\"sixth_arr:\",sixth_arr)\n",
        "print(\"eighth_arr_flat:\",eighth_arr_flat)\n",
        "\n"
      ],
      "metadata": {
        "colab": {
          "base_uri": "https://localhost:8080/"
        },
        "id": "ows2DMLecdCu",
        "outputId": "ddfd009a-badc-4cd2-d266-b19ecdbbe6da"
      },
      "execution_count": 159,
      "outputs": [
        {
          "output_type": "stream",
          "name": "stdout",
          "text": [
            "sixth_arr: [[1 2]\n",
            " [3 4]\n",
            " [5 6]]\n",
            "eighth_arr_flat: [100   2   3   4   5   6]\n"
          ]
        }
      ]
    },
    {
      "cell_type": "code",
      "source": [
        "ninth_arr_rav[0]=300\n",
        "print(\"ninth_arr_rav:\",ninth_arr_rav)\n",
        "print(\"sixth_arr:\",sixth_arr)"
      ],
      "metadata": {
        "colab": {
          "base_uri": "https://localhost:8080/"
        },
        "id": "lFF8uAM-fjPp",
        "outputId": "833deb41-c511-479b-c04c-01e88da6915b"
      },
      "execution_count": 160,
      "outputs": [
        {
          "output_type": "stream",
          "name": "stdout",
          "text": [
            "ninth_arr_rav: [300   2   3   4   5   6]\n",
            "sixth_arr: [[300   2]\n",
            " [  3   4]\n",
            " [  5   6]]\n"
          ]
        }
      ]
    },
    {
      "cell_type": "markdown",
      "source": [
        "**Indexing and Slicing**"
      ],
      "metadata": {
        "id": "ZsgSZD_zk39v"
      }
    },
    {
      "cell_type": "code",
      "source": [
        "twodim_arr=np.reshape(np.arange(12),(3,4))\n",
        "twodim_arr"
      ],
      "metadata": {
        "colab": {
          "base_uri": "https://localhost:8080/"
        },
        "id": "W8jTOeMpgH6P",
        "outputId": "f82c98d9-d4cb-427e-c21a-ca4fb67f210b"
      },
      "execution_count": 161,
      "outputs": [
        {
          "output_type": "execute_result",
          "data": {
            "text/plain": [
              "array([[ 0,  1,  2,  3],\n",
              "       [ 4,  5,  6,  7],\n",
              "       [ 8,  9, 10, 11]])"
            ]
          },
          "metadata": {},
          "execution_count": 161
        }
      ]
    },
    {
      "cell_type": "code",
      "source": [
        "print(twodim_arr[1,1])\n",
        "print(twodim_arr[1])"
      ],
      "metadata": {
        "colab": {
          "base_uri": "https://localhost:8080/"
        },
        "id": "RXx0nkITmWYo",
        "outputId": "0cfbcbbf-5477-430b-a4fd-38214c70cc67"
      },
      "execution_count": 162,
      "outputs": [
        {
          "output_type": "stream",
          "name": "stdout",
          "text": [
            "5\n",
            "[4 5 6 7]\n"
          ]
        }
      ]
    },
    {
      "cell_type": "code",
      "source": [
        "threedim_arr=np.reshape(np.arange(3*4*5),(3,4,5))\n",
        "threedim_arr\n"
      ],
      "metadata": {
        "colab": {
          "base_uri": "https://localhost:8080/"
        },
        "id": "bRXgw32fmZIs",
        "outputId": "a72b8fb9-0698-4f2d-ec76-b0f99a0c7357"
      },
      "execution_count": 163,
      "outputs": [
        {
          "output_type": "execute_result",
          "data": {
            "text/plain": [
              "array([[[ 0,  1,  2,  3,  4],\n",
              "        [ 5,  6,  7,  8,  9],\n",
              "        [10, 11, 12, 13, 14],\n",
              "        [15, 16, 17, 18, 19]],\n",
              "\n",
              "       [[20, 21, 22, 23, 24],\n",
              "        [25, 26, 27, 28, 29],\n",
              "        [30, 31, 32, 33, 34],\n",
              "        [35, 36, 37, 38, 39]],\n",
              "\n",
              "       [[40, 41, 42, 43, 44],\n",
              "        [45, 46, 47, 48, 49],\n",
              "        [50, 51, 52, 53, 54],\n",
              "        [55, 56, 57, 58, 59]]])"
            ]
          },
          "metadata": {},
          "execution_count": 163
        }
      ]
    },
    {
      "cell_type": "code",
      "source": [
        "print(threedim_arr[0,2,3])\n",
        "print(\"Indexing from end: \")\n",
        "print(threedim_arr[2,-1,-1])"
      ],
      "metadata": {
        "colab": {
          "base_uri": "https://localhost:8080/"
        },
        "id": "ZKVCxsoRmkRS",
        "outputId": "44101b72-e4bf-40d3-bf26-95fcd013210b"
      },
      "execution_count": 164,
      "outputs": [
        {
          "output_type": "stream",
          "name": "stdout",
          "text": [
            "13\n",
            "Indexing from end: \n",
            "59\n"
          ]
        }
      ]
    },
    {
      "cell_type": "code",
      "source": [
        "onedim_arr=np.arange(10)\n",
        "print(onedim_arr)\n",
        "#Slicing [start,stop)\n",
        "print(onedim_arr[2:6])\n",
        "print(onedim_arr[:5])\n",
        "\n",
        "#Last 3\n",
        "print(onedim_arr[-3:])\n",
        "\n",
        "#[Start,stop,step)\n",
        "print(onedim_arr[::2])"
      ],
      "metadata": {
        "colab": {
          "base_uri": "https://localhost:8080/"
        },
        "id": "Oh3zbCeHnA7G",
        "outputId": "22a9d4ed-e5b7-41f9-876f-6f1477dfbc75"
      },
      "execution_count": 165,
      "outputs": [
        {
          "output_type": "stream",
          "name": "stdout",
          "text": [
            "[0 1 2 3 4 5 6 7 8 9]\n",
            "[2 3 4 5]\n",
            "[0 1 2 3 4]\n",
            "[7 8 9]\n",
            "[0 2 4 6 8]\n"
          ]
        }
      ]
    },
    {
      "cell_type": "code",
      "source": [
        "print(twodim_arr)"
      ],
      "metadata": {
        "colab": {
          "base_uri": "https://localhost:8080/"
        },
        "id": "--7qG3JjnWwd",
        "outputId": "affb5118-b470-4757-9309-5d240c53252e"
      },
      "execution_count": 166,
      "outputs": [
        {
          "output_type": "stream",
          "name": "stdout",
          "text": [
            "[[ 0  1  2  3]\n",
            " [ 4  5  6  7]\n",
            " [ 8  9 10 11]]\n"
          ]
        }
      ]
    },
    {
      "cell_type": "code",
      "source": [
        "#Trimming 0th row and 0th column\n",
        "print(twodim_arr[1:,1:])\n",
        "\n",
        "#Printing 1st row\n",
        "print(twodim_arr[1,:])\n",
        "\n",
        "#Printing 2nd column\n",
        "print(twodim_arr[:,2])\n"
      ],
      "metadata": {
        "colab": {
          "base_uri": "https://localhost:8080/"
        },
        "id": "tv7rCrJooGDb",
        "outputId": "cfc33877-1143-4b74-a5f9-c67d9b984c74"
      },
      "execution_count": 167,
      "outputs": [
        {
          "output_type": "stream",
          "name": "stdout",
          "text": [
            "[[ 5  6  7]\n",
            " [ 9 10 11]]\n",
            "[4 5 6 7]\n",
            "[ 2  6 10]\n"
          ]
        }
      ]
    },
    {
      "cell_type": "code",
      "source": [
        "first_arr=np.arange(1,11)\n",
        "second_arr=np.arange(11,21)\n",
        "print(\"first_arr\",first_arr)\n",
        "print(\"second_arr\",second_arr)\n",
        "con_arr=np.concatenate((first_arr,second_arr))\n",
        "con_arr"
      ],
      "metadata": {
        "colab": {
          "base_uri": "https://localhost:8080/"
        },
        "id": "jptPNzyDoPeZ",
        "outputId": "2703629e-83a0-45d3-9346-d1dee1718d12"
      },
      "execution_count": 171,
      "outputs": [
        {
          "output_type": "stream",
          "name": "stdout",
          "text": [
            "first_arr [ 1  2  3  4  5  6  7  8  9 10]\n",
            "second_arr [11 12 13 14 15 16 17 18 19 20]\n"
          ]
        },
        {
          "output_type": "execute_result",
          "data": {
            "text/plain": [
              "array([ 1,  2,  3,  4,  5,  6,  7,  8,  9, 10, 11, 12, 13, 14, 15, 16, 17,\n",
              "       18, 19, 20])"
            ]
          },
          "metadata": {},
          "execution_count": 171
        }
      ]
    },
    {
      "cell_type": "code",
      "source": [
        "third_2darr=np.array([[1,2,3,4,5], [6,7,8,9,10]])\n",
        "print(third_2darr)\n",
        "fourth_2darr=np.array([[11,12,13,14,15], [16,17,18,19,20]])\n",
        "print(fourth_2darr)\n",
        "\n",
        "con2d_arr = np.concatenate((third_2darr,fourth_2darr),axis=1)\n",
        "con2d_arr"
      ],
      "metadata": {
        "colab": {
          "base_uri": "https://localhost:8080/"
        },
        "id": "d_K_v7Vh6KD-",
        "outputId": "06c0b0fd-9213-4599-a530-b8d2dc15dd89"
      },
      "execution_count": 172,
      "outputs": [
        {
          "output_type": "stream",
          "name": "stdout",
          "text": [
            "[[ 1  2  3  4  5]\n",
            " [ 6  7  8  9 10]]\n",
            "[[11 12 13 14 15]\n",
            " [16 17 18 19 20]]\n"
          ]
        },
        {
          "output_type": "execute_result",
          "data": {
            "text/plain": [
              "array([[ 1,  2,  3,  4,  5, 11, 12, 13, 14, 15],\n",
              "       [ 6,  7,  8,  9, 10, 16, 17, 18, 19, 20]])"
            ]
          },
          "metadata": {},
          "execution_count": 172
        }
      ]
    },
    {
      "cell_type": "code",
      "source": [
        "st_arr = np.stack((first_arr,second_arr))\n",
        "st_arr"
      ],
      "metadata": {
        "colab": {
          "base_uri": "https://localhost:8080/"
        },
        "id": "nThZgiRe6dLH",
        "outputId": "99a2ffb4-3ede-4198-d886-e2977647e4a7"
      },
      "execution_count": 173,
      "outputs": [
        {
          "output_type": "execute_result",
          "data": {
            "text/plain": [
              "array([[ 1,  2,  3,  4,  5,  6,  7,  8,  9, 10],\n",
              "       [11, 12, 13, 14, 15, 16, 17, 18, 19, 20]])"
            ]
          },
          "metadata": {},
          "execution_count": 173
        }
      ]
    },
    {
      "cell_type": "code",
      "source": [],
      "metadata": {
        "id": "roDC1KQh6p6G"
      },
      "execution_count": null,
      "outputs": []
    }
  ]
}